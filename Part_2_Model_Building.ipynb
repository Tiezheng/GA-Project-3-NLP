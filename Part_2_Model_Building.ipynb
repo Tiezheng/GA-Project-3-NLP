{
 "cells": [
  {
   "cell_type": "markdown",
   "metadata": {},
   "source": [
    "# Project 3: Web APIs & Classification"
   ]
  },
  {
   "cell_type": "markdown",
   "metadata": {},
   "source": [
    "## Executive Summary\n",
    "\n",
    "### Contents:\n",
    "- [1. Importing the Libraries](#1.-Importing-the-Libraries)\n",
    "- [2. Importing Datasets](#2.-Importing-Datasets)\n",
    "- [3. Inspection of Datasets](#3.-Inspection-of-Datasets)\n",
    "- [4. Data Cleaning](#4.-Data-Cleaning)\n",
    "- [5. Pre-processing](#5.-Pre-processing)\n",
    "- [6. Exploratory Data Analysis (EDA)](#6.-Exploratory-Data-Analysis-(EDA))\n",
    "- [7. Create Feature Matrix and Target](#7.-Create-Feature-Matrix-and-Target)\n",
    "- [8. Model Selection](#8.-Model-Selection)\n",
    "- [9. Selected Model and Business Recommendations](#9.-Selected-Model-and-Business-Recommendations)\n",
    "- [10. Future Steps](#10.-Future-Steps)"
   ]
  },
  {
   "cell_type": "markdown",
   "metadata": {},
   "source": [
    "## Problem Statement \n",
    "\n",
    "- International Basketball Federation (FIBA) is an association of national organizations which governs the sport of basketball worldwide. In recent years, the number of basketball fans worldwide had dwindled and many former basketball fans had switched to soccer. FIBA wants to identify the key words that can best capture the attention of its'fans so as to differentiate itself from soccer. This would facilitate FIBA's marketing effort on social medial to create short but impactful phrases. FIBA had approached reddit data science department for this project.     \n",
    "\n",
    "- Therefore, the goal of the project is to discover the key words that best differentiate basketball fans from soccer fans in reddit posts.\n",
    "\n",
    "- Three classification models, Naive Bayes, Logistic Regression and K-Nearest Neighbors will be developed. \n",
    "\n",
    "- The success of the model will be assessed based on its mean accuracy, precision and recall on unseen data. \n",
    "\n",
    "- There are 69.6K Basketball fans and 2.3 million soccer fans respectively on reddit. These fans come from all over the world. The models that will be developed are capable of accurately classify the two subreddits. There are enough unique posts in each subreddit to identify key words to achieve our research goal. Therefore, the scope of the project is appropriate. \n",
    "\n",
    "- This project is important to FIBA to reduce customer(fans) churn and to win back former fans. Otherwise, basketball fans worldwide will continue to dwindle. This has negatively affect major basketball leagues. Their ticket sales, membership and merchandise had experienced drastic drop. FIBA funding will be affected if fans continue to leave. \n",
    "\n",
    "- The primary stakeholder is FIBA. FIBA can use the key words identified to develop a successful marketing campaign to increase fan base. The secondary stakeholder will be major basketball associations for example NBA and the teams in it. They would benefit in terms of ticket sales, membership sign up, pay per view and merchandise sales. "
   ]
  },
  {
   "cell_type": "markdown",
   "metadata": {},
   "source": [
    "## 1. Importing the Libraries"
   ]
  },
  {
   "cell_type": "code",
   "execution_count": 1,
   "metadata": {},
   "outputs": [],
   "source": [
    "# Maths\n",
    "import scipy.stats as stats\n",
    "import numpy as np\n",
    "import pandas as pd\n",
    "import statsmodels.api as sm\n",
    "\n",
    "# Visual\n",
    "import seaborn as sns\n",
    "import matplotlib.pyplot as plt\n",
    "%matplotlib inline\n",
    "\n",
    "# Modelling\n",
    "from sklearn.linear_model import LogisticRegression\n",
    "from sklearn.neighbors import KNeighborsClassifier\n",
    "from sklearn import linear_model\n",
    "from sklearn.model_selection import train_test_split,cross_val_score,GridSearchCV\n",
    "from sklearn.metrics import r2_score,mean_squared_error,confusion_matrix,accuracy_score, classification_report\n",
    "from sklearn.pipeline import make_pipeline,Pipeline\n",
    "from sklearn.preprocessing import StandardScaler\n",
    "\n",
    "# NLP\n",
    "from sklearn.feature_extraction.text import CountVectorizer,HashingVectorizer,TfidfVectorizer\n",
    "from sklearn.naive_bayes import MultinomialNB\n",
    "from nltk.stem import PorterStemmer,WordNetLemmatizer\n",
    "from nltk.tokenize import sent_tokenize, word_tokenize\n",
    "from nltk.corpus import stopwords\n",
    "from nltk.sentiment.vader import SentimentIntensityAnalyzer\n",
    "import string\n",
    "\n",
    "# Others\n",
    "import time\n",
    "import datetime as dt\n",
    "import re\n",
    "import os"
   ]
  },
  {
   "cell_type": "markdown",
   "metadata": {},
   "source": [
    "## 2. Importing Datasets"
   ]
  },
  {
   "cell_type": "code",
   "execution_count": 2,
   "metadata": {},
   "outputs": [],
   "source": [
    "path ='../Project 3/datasets/'\n",
    "df = pd.read_csv(path + 'combine.csv')"
   ]
  },
  {
   "cell_type": "markdown",
   "metadata": {},
   "source": [
    "## 3. Inspection of Datasets"
   ]
  },
  {
   "cell_type": "code",
   "execution_count": 3,
   "metadata": {},
   "outputs": [
    {
     "data": {
      "text/html": [
       "<div>\n",
       "<style scoped>\n",
       "    .dataframe tbody tr th:only-of-type {\n",
       "        vertical-align: middle;\n",
       "    }\n",
       "\n",
       "    .dataframe tbody tr th {\n",
       "        vertical-align: top;\n",
       "    }\n",
       "\n",
       "    .dataframe thead th {\n",
       "        text-align: right;\n",
       "    }\n",
       "</style>\n",
       "<table border=\"1\" class=\"dataframe\">\n",
       "  <thead>\n",
       "    <tr style=\"text-align: right;\">\n",
       "      <th></th>\n",
       "      <th>title</th>\n",
       "      <th>selftext</th>\n",
       "      <th>upvote_ratio</th>\n",
       "      <th>ups</th>\n",
       "      <th>score</th>\n",
       "      <th>num_comments</th>\n",
       "      <th>subreddit</th>\n",
       "    </tr>\n",
       "  </thead>\n",
       "  <tbody>\n",
       "    <tr>\n",
       "      <th>0</th>\n",
       "      <td>RULE REMINDER: You cannot Post Offers to Trade...</td>\n",
       "      <td>Admins have banned other subs for this.\\n\\nNo ...</td>\n",
       "      <td>0.87</td>\n",
       "      <td>33</td>\n",
       "      <td>33</td>\n",
       "      <td>13</td>\n",
       "      <td>Basketball</td>\n",
       "    </tr>\n",
       "    <tr>\n",
       "      <th>1</th>\n",
       "      <td>r/Basketball Weekly Discussion: Basketball Sho...</td>\n",
       "      <td>#Welcome to /r/Basketball's weekly Shoe Discus...</td>\n",
       "      <td>1.00</td>\n",
       "      <td>2</td>\n",
       "      <td>2</td>\n",
       "      <td>0</td>\n",
       "      <td>Basketball</td>\n",
       "    </tr>\n",
       "    <tr>\n",
       "      <th>2</th>\n",
       "      <td>New Video: How Jimmy Butler Manages to be Both...</td>\n",
       "      <td>NaN</td>\n",
       "      <td>0.97</td>\n",
       "      <td>107</td>\n",
       "      <td>107</td>\n",
       "      <td>11</td>\n",
       "      <td>Basketball</td>\n",
       "    </tr>\n",
       "    <tr>\n",
       "      <th>3</th>\n",
       "      <td>LIKE MIKE - COVErgeist ft BIG 6 - lyric video ...</td>\n",
       "      <td>NaN</td>\n",
       "      <td>0.40</td>\n",
       "      <td>0</td>\n",
       "      <td>0</td>\n",
       "      <td>0</td>\n",
       "      <td>Basketball</td>\n",
       "    </tr>\n",
       "    <tr>\n",
       "      <th>4</th>\n",
       "      <td>Is it unusual that after i gained 50lbs in 5 m...</td>\n",
       "      <td>The change in my athleticism has been insane, ...</td>\n",
       "      <td>0.97</td>\n",
       "      <td>98</td>\n",
       "      <td>98</td>\n",
       "      <td>63</td>\n",
       "      <td>Basketball</td>\n",
       "    </tr>\n",
       "  </tbody>\n",
       "</table>\n",
       "</div>"
      ],
      "text/plain": [
       "                                               title  \\\n",
       "0  RULE REMINDER: You cannot Post Offers to Trade...   \n",
       "1  r/Basketball Weekly Discussion: Basketball Sho...   \n",
       "2  New Video: How Jimmy Butler Manages to be Both...   \n",
       "3  LIKE MIKE - COVErgeist ft BIG 6 - lyric video ...   \n",
       "4  Is it unusual that after i gained 50lbs in 5 m...   \n",
       "\n",
       "                                            selftext  upvote_ratio  ups  \\\n",
       "0  Admins have banned other subs for this.\\n\\nNo ...          0.87   33   \n",
       "1  #Welcome to /r/Basketball's weekly Shoe Discus...          1.00    2   \n",
       "2                                                NaN          0.97  107   \n",
       "3                                                NaN          0.40    0   \n",
       "4  The change in my athleticism has been insane, ...          0.97   98   \n",
       "\n",
       "   score  num_comments   subreddit  \n",
       "0     33            13  Basketball  \n",
       "1      2             0  Basketball  \n",
       "2    107            11  Basketball  \n",
       "3      0             0  Basketball  \n",
       "4     98            63  Basketball  "
      ]
     },
     "execution_count": 3,
     "metadata": {},
     "output_type": "execute_result"
    }
   ],
   "source": [
    "df.head()"
   ]
  },
  {
   "cell_type": "code",
   "execution_count": 4,
   "metadata": {},
   "outputs": [
    {
     "data": {
      "text/html": [
       "<div>\n",
       "<style scoped>\n",
       "    .dataframe tbody tr th:only-of-type {\n",
       "        vertical-align: middle;\n",
       "    }\n",
       "\n",
       "    .dataframe tbody tr th {\n",
       "        vertical-align: top;\n",
       "    }\n",
       "\n",
       "    .dataframe thead th {\n",
       "        text-align: right;\n",
       "    }\n",
       "</style>\n",
       "<table border=\"1\" class=\"dataframe\">\n",
       "  <thead>\n",
       "    <tr style=\"text-align: right;\">\n",
       "      <th></th>\n",
       "      <th>title</th>\n",
       "      <th>selftext</th>\n",
       "      <th>upvote_ratio</th>\n",
       "      <th>ups</th>\n",
       "      <th>score</th>\n",
       "      <th>num_comments</th>\n",
       "      <th>subreddit</th>\n",
       "    </tr>\n",
       "  </thead>\n",
       "  <tbody>\n",
       "    <tr>\n",
       "      <th>1801</th>\n",
       "      <td>Aston Villa forward Keinan Davis has signed a ...</td>\n",
       "      <td>NaN</td>\n",
       "      <td>0.79</td>\n",
       "      <td>31</td>\n",
       "      <td>31</td>\n",
       "      <td>25</td>\n",
       "      <td>soccer</td>\n",
       "    </tr>\n",
       "    <tr>\n",
       "      <th>1802</th>\n",
       "      <td>[Romano] Last updates... After personal terms ...</td>\n",
       "      <td>NaN</td>\n",
       "      <td>1.00</td>\n",
       "      <td>3</td>\n",
       "      <td>3</td>\n",
       "      <td>0</td>\n",
       "      <td>soccer</td>\n",
       "    </tr>\n",
       "    <tr>\n",
       "      <th>1803</th>\n",
       "      <td>[L’Equipe via GFFN] Leicester City are expecte...</td>\n",
       "      <td>NaN</td>\n",
       "      <td>1.00</td>\n",
       "      <td>1</td>\n",
       "      <td>1</td>\n",
       "      <td>0</td>\n",
       "      <td>soccer</td>\n",
       "    </tr>\n",
       "    <tr>\n",
       "      <th>1804</th>\n",
       "      <td>Rakitić: \"First of all, congratulations to Bay...</td>\n",
       "      <td>NaN</td>\n",
       "      <td>1.00</td>\n",
       "      <td>5</td>\n",
       "      <td>5</td>\n",
       "      <td>3</td>\n",
       "      <td>soccer</td>\n",
       "    </tr>\n",
       "    <tr>\n",
       "      <th>1805</th>\n",
       "      <td>[Official] Fenerbahçe purchase Mbwana Samatta ...</td>\n",
       "      <td>NaN</td>\n",
       "      <td>1.00</td>\n",
       "      <td>1</td>\n",
       "      <td>1</td>\n",
       "      <td>0</td>\n",
       "      <td>soccer</td>\n",
       "    </tr>\n",
       "  </tbody>\n",
       "</table>\n",
       "</div>"
      ],
      "text/plain": [
       "                                                  title selftext  \\\n",
       "1801  Aston Villa forward Keinan Davis has signed a ...      NaN   \n",
       "1802  [Romano] Last updates... After personal terms ...      NaN   \n",
       "1803  [L’Equipe via GFFN] Leicester City are expecte...      NaN   \n",
       "1804  Rakitić: \"First of all, congratulations to Bay...      NaN   \n",
       "1805  [Official] Fenerbahçe purchase Mbwana Samatta ...      NaN   \n",
       "\n",
       "      upvote_ratio  ups  score  num_comments subreddit  \n",
       "1801          0.79   31     31            25    soccer  \n",
       "1802          1.00    3      3             0    soccer  \n",
       "1803          1.00    1      1             0    soccer  \n",
       "1804          1.00    5      5             3    soccer  \n",
       "1805          1.00    1      1             0    soccer  "
      ]
     },
     "execution_count": 4,
     "metadata": {},
     "output_type": "execute_result"
    }
   ],
   "source": [
    "df.tail()"
   ]
  },
  {
   "cell_type": "code",
   "execution_count": 5,
   "metadata": {},
   "outputs": [
    {
     "data": {
      "text/plain": [
       "title            object\n",
       "selftext         object\n",
       "upvote_ratio    float64\n",
       "ups               int64\n",
       "score             int64\n",
       "num_comments      int64\n",
       "subreddit        object\n",
       "dtype: object"
      ]
     },
     "execution_count": 5,
     "metadata": {},
     "output_type": "execute_result"
    }
   ],
   "source": [
    "df.dtypes"
   ]
  },
  {
   "cell_type": "markdown",
   "metadata": {},
   "source": [
    "### Comment\n",
    "Subreddit should be encoded to 0 or 1 for analysis "
   ]
  },
  {
   "cell_type": "code",
   "execution_count": 6,
   "metadata": {},
   "outputs": [
    {
     "name": "stdout",
     "output_type": "stream",
     "text": [
      "<class 'pandas.core.frame.DataFrame'>\n",
      "RangeIndex: 1806 entries, 0 to 1805\n",
      "Data columns (total 7 columns):\n",
      " #   Column        Non-Null Count  Dtype  \n",
      "---  ------        --------------  -----  \n",
      " 0   title         1806 non-null   object \n",
      " 1   selftext      966 non-null    object \n",
      " 2   upvote_ratio  1806 non-null   float64\n",
      " 3   ups           1806 non-null   int64  \n",
      " 4   score         1806 non-null   int64  \n",
      " 5   num_comments  1806 non-null   int64  \n",
      " 6   subreddit     1806 non-null   object \n",
      "dtypes: float64(1), int64(3), object(3)\n",
      "memory usage: 98.9+ KB\n"
     ]
    }
   ],
   "source": [
    "df.info()"
   ]
  },
  {
   "cell_type": "code",
   "execution_count": 7,
   "metadata": {
    "scrolled": true
   },
   "outputs": [
    {
     "data": {
      "text/plain": [
       "title             0\n",
       "selftext        840\n",
       "upvote_ratio      0\n",
       "ups               0\n",
       "score             0\n",
       "num_comments      0\n",
       "subreddit         0\n",
       "dtype: int64"
      ]
     },
     "execution_count": 7,
     "metadata": {},
     "output_type": "execute_result"
    }
   ],
   "source": [
    "df.isnull().sum()"
   ]
  },
  {
   "cell_type": "markdown",
   "metadata": {},
   "source": [
    "### Comment\n",
    "There are 840 null cells in selftext which needs to be addressed"
   ]
  },
  {
   "cell_type": "code",
   "execution_count": 8,
   "metadata": {
    "scrolled": true
   },
   "outputs": [
    {
     "data": {
      "text/html": [
       "<div>\n",
       "<style scoped>\n",
       "    .dataframe tbody tr th:only-of-type {\n",
       "        vertical-align: middle;\n",
       "    }\n",
       "\n",
       "    .dataframe tbody tr th {\n",
       "        vertical-align: top;\n",
       "    }\n",
       "\n",
       "    .dataframe thead th {\n",
       "        text-align: right;\n",
       "    }\n",
       "</style>\n",
       "<table border=\"1\" class=\"dataframe\">\n",
       "  <thead>\n",
       "    <tr style=\"text-align: right;\">\n",
       "      <th></th>\n",
       "      <th>title</th>\n",
       "      <th>selftext</th>\n",
       "      <th>upvote_ratio</th>\n",
       "      <th>ups</th>\n",
       "      <th>score</th>\n",
       "      <th>num_comments</th>\n",
       "      <th>subreddit</th>\n",
       "    </tr>\n",
       "  </thead>\n",
       "  <tbody>\n",
       "    <tr>\n",
       "      <th>count</th>\n",
       "      <td>1806</td>\n",
       "      <td>966</td>\n",
       "      <td>1806.000000</td>\n",
       "      <td>1806.000000</td>\n",
       "      <td>1806.000000</td>\n",
       "      <td>1806.000000</td>\n",
       "      <td>1806</td>\n",
       "    </tr>\n",
       "    <tr>\n",
       "      <th>unique</th>\n",
       "      <td>1799</td>\n",
       "      <td>950</td>\n",
       "      <td>NaN</td>\n",
       "      <td>NaN</td>\n",
       "      <td>NaN</td>\n",
       "      <td>NaN</td>\n",
       "      <td>2</td>\n",
       "    </tr>\n",
       "    <tr>\n",
       "      <th>top</th>\n",
       "      <td>Dunking</td>\n",
       "      <td>#Welcome to /r/Basketball's weekly Shoe Discus...</td>\n",
       "      <td>NaN</td>\n",
       "      <td>NaN</td>\n",
       "      <td>NaN</td>\n",
       "      <td>NaN</td>\n",
       "      <td>Basketball</td>\n",
       "    </tr>\n",
       "    <tr>\n",
       "      <th>freq</th>\n",
       "      <td>3</td>\n",
       "      <td>10</td>\n",
       "      <td>NaN</td>\n",
       "      <td>NaN</td>\n",
       "      <td>NaN</td>\n",
       "      <td>NaN</td>\n",
       "      <td>995</td>\n",
       "    </tr>\n",
       "    <tr>\n",
       "      <th>mean</th>\n",
       "      <td>NaN</td>\n",
       "      <td>NaN</td>\n",
       "      <td>0.891035</td>\n",
       "      <td>240.142303</td>\n",
       "      <td>240.142303</td>\n",
       "      <td>41.167774</td>\n",
       "      <td>NaN</td>\n",
       "    </tr>\n",
       "    <tr>\n",
       "      <th>std</th>\n",
       "      <td>NaN</td>\n",
       "      <td>NaN</td>\n",
       "      <td>0.134164</td>\n",
       "      <td>1119.129315</td>\n",
       "      <td>1119.129315</td>\n",
       "      <td>164.800829</td>\n",
       "      <td>NaN</td>\n",
       "    </tr>\n",
       "    <tr>\n",
       "      <th>min</th>\n",
       "      <td>NaN</td>\n",
       "      <td>NaN</td>\n",
       "      <td>0.250000</td>\n",
       "      <td>0.000000</td>\n",
       "      <td>0.000000</td>\n",
       "      <td>0.000000</td>\n",
       "      <td>NaN</td>\n",
       "    </tr>\n",
       "    <tr>\n",
       "      <th>25%</th>\n",
       "      <td>NaN</td>\n",
       "      <td>NaN</td>\n",
       "      <td>0.820000</td>\n",
       "      <td>1.000000</td>\n",
       "      <td>1.000000</td>\n",
       "      <td>2.000000</td>\n",
       "      <td>NaN</td>\n",
       "    </tr>\n",
       "    <tr>\n",
       "      <th>50%</th>\n",
       "      <td>NaN</td>\n",
       "      <td>NaN</td>\n",
       "      <td>0.940000</td>\n",
       "      <td>7.000000</td>\n",
       "      <td>7.000000</td>\n",
       "      <td>6.000000</td>\n",
       "      <td>NaN</td>\n",
       "    </tr>\n",
       "    <tr>\n",
       "      <th>75%</th>\n",
       "      <td>NaN</td>\n",
       "      <td>NaN</td>\n",
       "      <td>1.000000</td>\n",
       "      <td>55.000000</td>\n",
       "      <td>55.000000</td>\n",
       "      <td>22.000000</td>\n",
       "      <td>NaN</td>\n",
       "    </tr>\n",
       "    <tr>\n",
       "      <th>max</th>\n",
       "      <td>NaN</td>\n",
       "      <td>NaN</td>\n",
       "      <td>1.000000</td>\n",
       "      <td>21286.000000</td>\n",
       "      <td>21286.000000</td>\n",
       "      <td>3726.000000</td>\n",
       "      <td>NaN</td>\n",
       "    </tr>\n",
       "  </tbody>\n",
       "</table>\n",
       "</div>"
      ],
      "text/plain": [
       "          title                                           selftext  \\\n",
       "count      1806                                                966   \n",
       "unique     1799                                                950   \n",
       "top     Dunking  #Welcome to /r/Basketball's weekly Shoe Discus...   \n",
       "freq          3                                                 10   \n",
       "mean        NaN                                                NaN   \n",
       "std         NaN                                                NaN   \n",
       "min         NaN                                                NaN   \n",
       "25%         NaN                                                NaN   \n",
       "50%         NaN                                                NaN   \n",
       "75%         NaN                                                NaN   \n",
       "max         NaN                                                NaN   \n",
       "\n",
       "        upvote_ratio           ups         score  num_comments   subreddit  \n",
       "count    1806.000000   1806.000000   1806.000000   1806.000000        1806  \n",
       "unique           NaN           NaN           NaN           NaN           2  \n",
       "top              NaN           NaN           NaN           NaN  Basketball  \n",
       "freq             NaN           NaN           NaN           NaN         995  \n",
       "mean        0.891035    240.142303    240.142303     41.167774         NaN  \n",
       "std         0.134164   1119.129315   1119.129315    164.800829         NaN  \n",
       "min         0.250000      0.000000      0.000000      0.000000         NaN  \n",
       "25%         0.820000      1.000000      1.000000      2.000000         NaN  \n",
       "50%         0.940000      7.000000      7.000000      6.000000         NaN  \n",
       "75%         1.000000     55.000000     55.000000     22.000000         NaN  \n",
       "max         1.000000  21286.000000  21286.000000   3726.000000         NaN  "
      ]
     },
     "execution_count": 8,
     "metadata": {},
     "output_type": "execute_result"
    }
   ],
   "source": [
    "df.describe(include='all')"
   ]
  },
  {
   "cell_type": "markdown",
   "metadata": {},
   "source": [
    "### Comment\n",
    "There seems to be some duplicates in title and selftext as the the count and unique does not match. \n",
    "I shall investigate. "
   ]
  },
  {
   "cell_type": "code",
   "execution_count": 9,
   "metadata": {},
   "outputs": [
    {
     "data": {
      "text/html": [
       "<div>\n",
       "<style scoped>\n",
       "    .dataframe tbody tr th:only-of-type {\n",
       "        vertical-align: middle;\n",
       "    }\n",
       "\n",
       "    .dataframe tbody tr th {\n",
       "        vertical-align: top;\n",
       "    }\n",
       "\n",
       "    .dataframe thead th {\n",
       "        text-align: right;\n",
       "    }\n",
       "</style>\n",
       "<table border=\"1\" class=\"dataframe\">\n",
       "  <thead>\n",
       "    <tr style=\"text-align: right;\">\n",
       "      <th></th>\n",
       "      <th>title</th>\n",
       "      <th>selftext</th>\n",
       "      <th>upvote_ratio</th>\n",
       "      <th>ups</th>\n",
       "      <th>score</th>\n",
       "      <th>num_comments</th>\n",
       "      <th>subreddit</th>\n",
       "    </tr>\n",
       "  </thead>\n",
       "  <tbody>\n",
       "    <tr>\n",
       "      <th>148</th>\n",
       "      <td>Traveling calls international games</td>\n",
       "      <td>Do NBA players get called for traveling often ...</td>\n",
       "      <td>1.00</td>\n",
       "      <td>1</td>\n",
       "      <td>1</td>\n",
       "      <td>0</td>\n",
       "      <td>Basketball</td>\n",
       "    </tr>\n",
       "    <tr>\n",
       "      <th>315</th>\n",
       "      <td>Dunking</td>\n",
       "      <td>I am at age of 18 and i have performed some ex...</td>\n",
       "      <td>1.00</td>\n",
       "      <td>2</td>\n",
       "      <td>2</td>\n",
       "      <td>0</td>\n",
       "      <td>Basketball</td>\n",
       "    </tr>\n",
       "    <tr>\n",
       "      <th>514</th>\n",
       "      <td>Vertical jump training improvement</td>\n",
       "      <td>Hello guys I am 15 years old and have roughly ...</td>\n",
       "      <td>0.76</td>\n",
       "      <td>2</td>\n",
       "      <td>2</td>\n",
       "      <td>3</td>\n",
       "      <td>Basketball</td>\n",
       "    </tr>\n",
       "    <tr>\n",
       "      <th>560</th>\n",
       "      <td>Dunking</td>\n",
       "      <td>I got supposedly my first dunk, I didn’t think...</td>\n",
       "      <td>0.98</td>\n",
       "      <td>77</td>\n",
       "      <td>77</td>\n",
       "      <td>30</td>\n",
       "      <td>Basketball</td>\n",
       "    </tr>\n",
       "    <tr>\n",
       "      <th>659</th>\n",
       "      <td>Possible to make varsity team as a senior?</td>\n",
       "      <td>Hi I’ve always been really interested in baske...</td>\n",
       "      <td>1.00</td>\n",
       "      <td>1</td>\n",
       "      <td>1</td>\n",
       "      <td>0</td>\n",
       "      <td>Basketball</td>\n",
       "    </tr>\n",
       "    <tr>\n",
       "      <th>1316</th>\n",
       "      <td>Daily Discussion</td>\n",
       "      <td>This thread is for general football discussion...</td>\n",
       "      <td>0.90</td>\n",
       "      <td>104</td>\n",
       "      <td>104</td>\n",
       "      <td>3726</td>\n",
       "      <td>soccer</td>\n",
       "    </tr>\n",
       "    <tr>\n",
       "      <th>1611</th>\n",
       "      <td>Daily Discussion</td>\n",
       "      <td>This thread is for general football discussion...</td>\n",
       "      <td>0.90</td>\n",
       "      <td>99</td>\n",
       "      <td>99</td>\n",
       "      <td>3195</td>\n",
       "      <td>soccer</td>\n",
       "    </tr>\n",
       "  </tbody>\n",
       "</table>\n",
       "</div>"
      ],
      "text/plain": [
       "                                           title  \\\n",
       "148          Traveling calls international games   \n",
       "315                                      Dunking   \n",
       "514           Vertical jump training improvement   \n",
       "560                                      Dunking   \n",
       "659   Possible to make varsity team as a senior?   \n",
       "1316                            Daily Discussion   \n",
       "1611                            Daily Discussion   \n",
       "\n",
       "                                               selftext  upvote_ratio  ups  \\\n",
       "148   Do NBA players get called for traveling often ...          1.00    1   \n",
       "315   I am at age of 18 and i have performed some ex...          1.00    2   \n",
       "514   Hello guys I am 15 years old and have roughly ...          0.76    2   \n",
       "560   I got supposedly my first dunk, I didn’t think...          0.98   77   \n",
       "659   Hi I’ve always been really interested in baske...          1.00    1   \n",
       "1316  This thread is for general football discussion...          0.90  104   \n",
       "1611  This thread is for general football discussion...          0.90   99   \n",
       "\n",
       "      score  num_comments   subreddit  \n",
       "148       1             0  Basketball  \n",
       "315       2             0  Basketball  \n",
       "514       2             3  Basketball  \n",
       "560      77            30  Basketball  \n",
       "659       1             0  Basketball  \n",
       "1316    104          3726      soccer  \n",
       "1611     99          3195      soccer  "
      ]
     },
     "execution_count": 9,
     "metadata": {},
     "output_type": "execute_result"
    }
   ],
   "source": [
    "# Investigating title. the two soccer post seems to be duplicate\n",
    "df[df.duplicated(subset='title')]"
   ]
  },
  {
   "cell_type": "code",
   "execution_count": 10,
   "metadata": {},
   "outputs": [
    {
     "data": {
      "text/html": [
       "<div>\n",
       "<style scoped>\n",
       "    .dataframe tbody tr th:only-of-type {\n",
       "        vertical-align: middle;\n",
       "    }\n",
       "\n",
       "    .dataframe tbody tr th {\n",
       "        vertical-align: top;\n",
       "    }\n",
       "\n",
       "    .dataframe thead th {\n",
       "        text-align: right;\n",
       "    }\n",
       "</style>\n",
       "<table border=\"1\" class=\"dataframe\">\n",
       "  <thead>\n",
       "    <tr style=\"text-align: right;\">\n",
       "      <th></th>\n",
       "      <th>title</th>\n",
       "      <th>selftext</th>\n",
       "      <th>upvote_ratio</th>\n",
       "      <th>ups</th>\n",
       "      <th>score</th>\n",
       "      <th>num_comments</th>\n",
       "      <th>subreddit</th>\n",
       "    </tr>\n",
       "  </thead>\n",
       "  <tbody>\n",
       "    <tr>\n",
       "      <th>96</th>\n",
       "      <td>r/Basketball Weekly Discussion: Basketball Sho...</td>\n",
       "      <td>#Welcome to /r/Basketball's weekly Shoe Discus...</td>\n",
       "      <td>0.88</td>\n",
       "      <td>6</td>\n",
       "      <td>6</td>\n",
       "      <td>8</td>\n",
       "      <td>Basketball</td>\n",
       "    </tr>\n",
       "    <tr>\n",
       "      <th>171</th>\n",
       "      <td>r/Basketball Weekly Discussion: Basketball Sho...</td>\n",
       "      <td>#Welcome to /r/Basketball's weekly Shoe Discus...</td>\n",
       "      <td>1.00</td>\n",
       "      <td>38</td>\n",
       "      <td>38</td>\n",
       "      <td>47</td>\n",
       "      <td>Basketball</td>\n",
       "    </tr>\n",
       "    <tr>\n",
       "      <th>274</th>\n",
       "      <td>r/Basketball Weekly Discussion: Basketball Sho...</td>\n",
       "      <td>#Welcome to /r/Basketball's weekly Shoe Discus...</td>\n",
       "      <td>1.00</td>\n",
       "      <td>5</td>\n",
       "      <td>5</td>\n",
       "      <td>16</td>\n",
       "      <td>Basketball</td>\n",
       "    </tr>\n",
       "    <tr>\n",
       "      <th>391</th>\n",
       "      <td>r/Basketball Weekly Discussion: Basketball Sho...</td>\n",
       "      <td>#Welcome to /r/Basketball's weekly Shoe Discus...</td>\n",
       "      <td>0.86</td>\n",
       "      <td>5</td>\n",
       "      <td>5</td>\n",
       "      <td>12</td>\n",
       "      <td>Basketball</td>\n",
       "    </tr>\n",
       "    <tr>\n",
       "      <th>511</th>\n",
       "      <td>r/Basketball Weekly Discussion: Basketball Sho...</td>\n",
       "      <td>#Welcome to /r/Basketball's weekly Shoe Discus...</td>\n",
       "      <td>0.76</td>\n",
       "      <td>2</td>\n",
       "      <td>2</td>\n",
       "      <td>16</td>\n",
       "      <td>Basketball</td>\n",
       "    </tr>\n",
       "    <tr>\n",
       "      <th>620</th>\n",
       "      <td>r/Basketball Weekly Discussion: Basketball Sho...</td>\n",
       "      <td>#Welcome to /r/Basketball's weekly Shoe Discus...</td>\n",
       "      <td>0.95</td>\n",
       "      <td>32</td>\n",
       "      <td>32</td>\n",
       "      <td>42</td>\n",
       "      <td>Basketball</td>\n",
       "    </tr>\n",
       "    <tr>\n",
       "      <th>743</th>\n",
       "      <td>r/Basketball Weekly Discussion: Basketball Sho...</td>\n",
       "      <td>#Welcome to /r/Basketball's weekly Shoe Discus...</td>\n",
       "      <td>1.00</td>\n",
       "      <td>5</td>\n",
       "      <td>5</td>\n",
       "      <td>5</td>\n",
       "      <td>Basketball</td>\n",
       "    </tr>\n",
       "    <tr>\n",
       "      <th>846</th>\n",
       "      <td>r/Basketball Weekly Discussion: Basketball Sho...</td>\n",
       "      <td>#Welcome to /r/Basketball's weekly Shoe Discus...</td>\n",
       "      <td>0.96</td>\n",
       "      <td>43</td>\n",
       "      <td>43</td>\n",
       "      <td>44</td>\n",
       "      <td>Basketball</td>\n",
       "    </tr>\n",
       "    <tr>\n",
       "      <th>856</th>\n",
       "      <td>Between the legs</td>\n",
       "      <td>I’m new to basketball and I practices between ...</td>\n",
       "      <td>1.00</td>\n",
       "      <td>3</td>\n",
       "      <td>3</td>\n",
       "      <td>4</td>\n",
       "      <td>Basketball</td>\n",
       "    </tr>\n",
       "    <tr>\n",
       "      <th>909</th>\n",
       "      <td>Workout or exercises that can increase my vert...</td>\n",
       "      <td>Thank you in advance</td>\n",
       "      <td>1.00</td>\n",
       "      <td>4</td>\n",
       "      <td>4</td>\n",
       "      <td>5</td>\n",
       "      <td>Basketball</td>\n",
       "    </tr>\n",
       "    <tr>\n",
       "      <th>971</th>\n",
       "      <td>r/Basketball Weekly Discussion: Basketball Sho...</td>\n",
       "      <td>#Welcome to /r/Basketball's weekly Shoe Discus...</td>\n",
       "      <td>0.81</td>\n",
       "      <td>3</td>\n",
       "      <td>3</td>\n",
       "      <td>14</td>\n",
       "      <td>Basketball</td>\n",
       "    </tr>\n",
       "    <tr>\n",
       "      <th>1050</th>\n",
       "      <td>Match Thread: Sevilla - Bayern Munich | UEFA S...</td>\n",
       "      <td># Sevilla 1-2 Bayern Munich\\n\\n*Sevilla scorer...</td>\n",
       "      <td>0.97</td>\n",
       "      <td>261</td>\n",
       "      <td>261</td>\n",
       "      <td>3017</td>\n",
       "      <td>soccer</td>\n",
       "    </tr>\n",
       "    <tr>\n",
       "      <th>1316</th>\n",
       "      <td>Daily Discussion</td>\n",
       "      <td>This thread is for general football discussion...</td>\n",
       "      <td>0.90</td>\n",
       "      <td>104</td>\n",
       "      <td>104</td>\n",
       "      <td>3726</td>\n",
       "      <td>soccer</td>\n",
       "    </tr>\n",
       "    <tr>\n",
       "      <th>1475</th>\n",
       "      <td>Match Thread: Leicester City vs. Arsenal | EFL...</td>\n",
       "      <td># [](#sprite1-p87) **Leicester City** [0 - 2](...</td>\n",
       "      <td>0.82</td>\n",
       "      <td>37</td>\n",
       "      <td>37</td>\n",
       "      <td>393</td>\n",
       "      <td>soccer</td>\n",
       "    </tr>\n",
       "    <tr>\n",
       "      <th>1611</th>\n",
       "      <td>Daily Discussion</td>\n",
       "      <td>This thread is for general football discussion...</td>\n",
       "      <td>0.90</td>\n",
       "      <td>99</td>\n",
       "      <td>99</td>\n",
       "      <td>3195</td>\n",
       "      <td>soccer</td>\n",
       "    </tr>\n",
       "    <tr>\n",
       "      <th>1763</th>\n",
       "      <td>Match Thread: Luton Town vs. Manchester United...</td>\n",
       "      <td># [](#sprite1-p206) **Luton Town** [0 - 3](#ba...</td>\n",
       "      <td>0.82</td>\n",
       "      <td>32</td>\n",
       "      <td>32</td>\n",
       "      <td>489</td>\n",
       "      <td>soccer</td>\n",
       "    </tr>\n",
       "  </tbody>\n",
       "</table>\n",
       "</div>"
      ],
      "text/plain": [
       "                                                  title  \\\n",
       "96    r/Basketball Weekly Discussion: Basketball Sho...   \n",
       "171   r/Basketball Weekly Discussion: Basketball Sho...   \n",
       "274   r/Basketball Weekly Discussion: Basketball Sho...   \n",
       "391   r/Basketball Weekly Discussion: Basketball Sho...   \n",
       "511   r/Basketball Weekly Discussion: Basketball Sho...   \n",
       "620   r/Basketball Weekly Discussion: Basketball Sho...   \n",
       "743   r/Basketball Weekly Discussion: Basketball Sho...   \n",
       "846   r/Basketball Weekly Discussion: Basketball Sho...   \n",
       "856                                    Between the legs   \n",
       "909   Workout or exercises that can increase my vert...   \n",
       "971   r/Basketball Weekly Discussion: Basketball Sho...   \n",
       "1050  Match Thread: Sevilla - Bayern Munich | UEFA S...   \n",
       "1316                                   Daily Discussion   \n",
       "1475  Match Thread: Leicester City vs. Arsenal | EFL...   \n",
       "1611                                   Daily Discussion   \n",
       "1763  Match Thread: Luton Town vs. Manchester United...   \n",
       "\n",
       "                                               selftext  upvote_ratio  ups  \\\n",
       "96    #Welcome to /r/Basketball's weekly Shoe Discus...          0.88    6   \n",
       "171   #Welcome to /r/Basketball's weekly Shoe Discus...          1.00   38   \n",
       "274   #Welcome to /r/Basketball's weekly Shoe Discus...          1.00    5   \n",
       "391   #Welcome to /r/Basketball's weekly Shoe Discus...          0.86    5   \n",
       "511   #Welcome to /r/Basketball's weekly Shoe Discus...          0.76    2   \n",
       "620   #Welcome to /r/Basketball's weekly Shoe Discus...          0.95   32   \n",
       "743   #Welcome to /r/Basketball's weekly Shoe Discus...          1.00    5   \n",
       "846   #Welcome to /r/Basketball's weekly Shoe Discus...          0.96   43   \n",
       "856   I’m new to basketball and I practices between ...          1.00    3   \n",
       "909                                Thank you in advance          1.00    4   \n",
       "971   #Welcome to /r/Basketball's weekly Shoe Discus...          0.81    3   \n",
       "1050  # Sevilla 1-2 Bayern Munich\\n\\n*Sevilla scorer...          0.97  261   \n",
       "1316  This thread is for general football discussion...          0.90  104   \n",
       "1475  # [](#sprite1-p87) **Leicester City** [0 - 2](...          0.82   37   \n",
       "1611  This thread is for general football discussion...          0.90   99   \n",
       "1763  # [](#sprite1-p206) **Luton Town** [0 - 3](#ba...          0.82   32   \n",
       "\n",
       "      score  num_comments   subreddit  \n",
       "96        6             8  Basketball  \n",
       "171      38            47  Basketball  \n",
       "274       5            16  Basketball  \n",
       "391       5            12  Basketball  \n",
       "511       2            16  Basketball  \n",
       "620      32            42  Basketball  \n",
       "743       5             5  Basketball  \n",
       "846      43            44  Basketball  \n",
       "856       3             4  Basketball  \n",
       "909       4             5  Basketball  \n",
       "971       3            14  Basketball  \n",
       "1050    261          3017      soccer  \n",
       "1316    104          3726      soccer  \n",
       "1475     37           393      soccer  \n",
       "1611     99          3195      soccer  \n",
       "1763     32           489      soccer  "
      ]
     },
     "execution_count": 10,
     "metadata": {},
     "output_type": "execute_result"
    }
   ],
   "source": [
    "# Investigate selftext. Many null rows, i will inspect those that are not null. \n",
    "df[(df.duplicated(subset='selftext')) & (df['selftext'].isnull()==False)]"
   ]
  },
  {
   "cell_type": "code",
   "execution_count": 11,
   "metadata": {},
   "outputs": [],
   "source": [
    "# Dropping duplicated rows\n",
    "# Row 56, 856, 909, 1050, 1475, 1763 will be kept as they are not duplicates\n",
    "# Row 96 and 1316 will be kept as reference \n",
    "df.drop([171,274,391,511,620,743,846,971,1611], axis=0, inplace=True)"
   ]
  },
  {
   "cell_type": "code",
   "execution_count": 12,
   "metadata": {},
   "outputs": [
    {
     "data": {
      "text/html": [
       "<div>\n",
       "<style scoped>\n",
       "    .dataframe tbody tr th:only-of-type {\n",
       "        vertical-align: middle;\n",
       "    }\n",
       "\n",
       "    .dataframe tbody tr th {\n",
       "        vertical-align: top;\n",
       "    }\n",
       "\n",
       "    .dataframe thead th {\n",
       "        text-align: right;\n",
       "    }\n",
       "</style>\n",
       "<table border=\"1\" class=\"dataframe\">\n",
       "  <thead>\n",
       "    <tr style=\"text-align: right;\">\n",
       "      <th></th>\n",
       "      <th>title</th>\n",
       "      <th>selftext</th>\n",
       "      <th>upvote_ratio</th>\n",
       "      <th>ups</th>\n",
       "      <th>score</th>\n",
       "      <th>num_comments</th>\n",
       "      <th>subreddit</th>\n",
       "    </tr>\n",
       "  </thead>\n",
       "  <tbody>\n",
       "    <tr>\n",
       "      <th>count</th>\n",
       "      <td>1797</td>\n",
       "      <td>957</td>\n",
       "      <td>1797.000000</td>\n",
       "      <td>1797.000000</td>\n",
       "      <td>1797.000000</td>\n",
       "      <td>1797.000000</td>\n",
       "      <td>1797</td>\n",
       "    </tr>\n",
       "    <tr>\n",
       "      <th>unique</th>\n",
       "      <td>1791</td>\n",
       "      <td>950</td>\n",
       "      <td>NaN</td>\n",
       "      <td>NaN</td>\n",
       "      <td>NaN</td>\n",
       "      <td>NaN</td>\n",
       "      <td>2</td>\n",
       "    </tr>\n",
       "    <tr>\n",
       "      <th>top</th>\n",
       "      <td>Dunking</td>\n",
       "      <td>Thank you in advance</td>\n",
       "      <td>NaN</td>\n",
       "      <td>NaN</td>\n",
       "      <td>NaN</td>\n",
       "      <td>NaN</td>\n",
       "      <td>Basketball</td>\n",
       "    </tr>\n",
       "    <tr>\n",
       "      <th>freq</th>\n",
       "      <td>3</td>\n",
       "      <td>2</td>\n",
       "      <td>NaN</td>\n",
       "      <td>NaN</td>\n",
       "      <td>NaN</td>\n",
       "      <td>NaN</td>\n",
       "      <td>987</td>\n",
       "    </tr>\n",
       "    <tr>\n",
       "      <th>mean</th>\n",
       "      <td>NaN</td>\n",
       "      <td>NaN</td>\n",
       "      <td>0.890913</td>\n",
       "      <td>241.215915</td>\n",
       "      <td>241.215915</td>\n",
       "      <td>39.486923</td>\n",
       "      <td>NaN</td>\n",
       "    </tr>\n",
       "    <tr>\n",
       "      <th>std</th>\n",
       "      <td>NaN</td>\n",
       "      <td>NaN</td>\n",
       "      <td>0.134358</td>\n",
       "      <td>1121.824682</td>\n",
       "      <td>1121.824682</td>\n",
       "      <td>147.485643</td>\n",
       "      <td>NaN</td>\n",
       "    </tr>\n",
       "    <tr>\n",
       "      <th>min</th>\n",
       "      <td>NaN</td>\n",
       "      <td>NaN</td>\n",
       "      <td>0.250000</td>\n",
       "      <td>0.000000</td>\n",
       "      <td>0.000000</td>\n",
       "      <td>0.000000</td>\n",
       "      <td>NaN</td>\n",
       "    </tr>\n",
       "    <tr>\n",
       "      <th>25%</th>\n",
       "      <td>NaN</td>\n",
       "      <td>NaN</td>\n",
       "      <td>0.820000</td>\n",
       "      <td>1.000000</td>\n",
       "      <td>1.000000</td>\n",
       "      <td>2.000000</td>\n",
       "      <td>NaN</td>\n",
       "    </tr>\n",
       "    <tr>\n",
       "      <th>50%</th>\n",
       "      <td>NaN</td>\n",
       "      <td>NaN</td>\n",
       "      <td>0.940000</td>\n",
       "      <td>7.000000</td>\n",
       "      <td>7.000000</td>\n",
       "      <td>6.000000</td>\n",
       "      <td>NaN</td>\n",
       "    </tr>\n",
       "    <tr>\n",
       "      <th>75%</th>\n",
       "      <td>NaN</td>\n",
       "      <td>NaN</td>\n",
       "      <td>1.000000</td>\n",
       "      <td>55.000000</td>\n",
       "      <td>55.000000</td>\n",
       "      <td>22.000000</td>\n",
       "      <td>NaN</td>\n",
       "    </tr>\n",
       "    <tr>\n",
       "      <th>max</th>\n",
       "      <td>NaN</td>\n",
       "      <td>NaN</td>\n",
       "      <td>1.000000</td>\n",
       "      <td>21286.000000</td>\n",
       "      <td>21286.000000</td>\n",
       "      <td>3726.000000</td>\n",
       "      <td>NaN</td>\n",
       "    </tr>\n",
       "  </tbody>\n",
       "</table>\n",
       "</div>"
      ],
      "text/plain": [
       "          title              selftext  upvote_ratio           ups  \\\n",
       "count      1797                   957   1797.000000   1797.000000   \n",
       "unique     1791                   950           NaN           NaN   \n",
       "top     Dunking  Thank you in advance           NaN           NaN   \n",
       "freq          3                     2           NaN           NaN   \n",
       "mean        NaN                   NaN      0.890913    241.215915   \n",
       "std         NaN                   NaN      0.134358   1121.824682   \n",
       "min         NaN                   NaN      0.250000      0.000000   \n",
       "25%         NaN                   NaN      0.820000      1.000000   \n",
       "50%         NaN                   NaN      0.940000      7.000000   \n",
       "75%         NaN                   NaN      1.000000     55.000000   \n",
       "max         NaN                   NaN      1.000000  21286.000000   \n",
       "\n",
       "               score  num_comments   subreddit  \n",
       "count    1797.000000   1797.000000        1797  \n",
       "unique           NaN           NaN           2  \n",
       "top              NaN           NaN  Basketball  \n",
       "freq             NaN           NaN         987  \n",
       "mean      241.215915     39.486923         NaN  \n",
       "std      1121.824682    147.485643         NaN  \n",
       "min         0.000000      0.000000         NaN  \n",
       "25%         1.000000      2.000000         NaN  \n",
       "50%         7.000000      6.000000         NaN  \n",
       "75%        55.000000     22.000000         NaN  \n",
       "max     21286.000000   3726.000000         NaN  "
      ]
     },
     "execution_count": 12,
     "metadata": {},
     "output_type": "execute_result"
    }
   ],
   "source": [
    "# Lets take a look again at describe\n",
    "df.describe(include='all')"
   ]
  },
  {
   "cell_type": "markdown",
   "metadata": {},
   "source": [
    "### Comment\n",
    "- All duplicates removed. Based on the summary statistics, there 1797 titles and 957 selftext. \n",
    "- The mean upvote ratio is 0.89, meaning out of 10 votes, there are around 9 votes in support. It has a low standards deviation of 0.134 meaning that the data is close together, not spread out. \n",
    "- The mean number of ups is 241 per post. Standard deviation of 1121.8, meaning the data is widely spread out. Looking at the min=0 and max=21286, this indicates that there is high variance. \n",
    "- The score follows the distribution of the ups as socre is only the difference between ups and down votes. \n",
    "- The average number of comment is 39 per post with standards deviation of 147.5. This means that there is high variance, looking at the min=0 and max=3726, 25%=2 and 75%=22, this proves that the data points are widely spread out. \n"
   ]
  },
  {
   "cell_type": "code",
   "execution_count": 13,
   "metadata": {},
   "outputs": [
    {
     "data": {
      "text/plain": [
       "(1797, 7)"
      ]
     },
     "execution_count": 13,
     "metadata": {},
     "output_type": "execute_result"
    }
   ],
   "source": [
    "df.shape"
   ]
  },
  {
   "cell_type": "code",
   "execution_count": 14,
   "metadata": {},
   "outputs": [
    {
     "data": {
      "text/plain": [
       "Basketball    987\n",
       "soccer        810\n",
       "Name: subreddit, dtype: int64"
      ]
     },
     "execution_count": 14,
     "metadata": {},
     "output_type": "execute_result"
    }
   ],
   "source": [
    "# Total 987 unique basketball posts and 810 unique soccer posts\n",
    "df['subreddit'].value_counts()"
   ]
  },
  {
   "cell_type": "markdown",
   "metadata": {},
   "source": [
    "## 4. Data Cleaning"
   ]
  },
  {
   "cell_type": "code",
   "execution_count": 15,
   "metadata": {},
   "outputs": [],
   "source": [
    "pd.set_option('display.max_rows', None)"
   ]
  },
  {
   "cell_type": "code",
   "execution_count": 16,
   "metadata": {},
   "outputs": [
    {
     "data": {
      "text/plain": [
       "title           0\n",
       "selftext        0\n",
       "upvote_ratio    0\n",
       "ups             0\n",
       "score           0\n",
       "num_comments    0\n",
       "subreddit       0\n",
       "dtype: int64"
      ]
     },
     "execution_count": 16,
     "metadata": {},
     "output_type": "execute_result"
    }
   ],
   "source": [
    "# Addressing null cells \n",
    "df.fillna(\"\",inplace=True)\n",
    "df.isnull().sum()"
   ]
  },
  {
   "cell_type": "code",
   "execution_count": 17,
   "metadata": {},
   "outputs": [],
   "source": [
    "# I have seen some emojis in the title and selftext, it needs to be removed\n",
    "def strip_emoji(text):\n",
    "    RE_EMOJI = re.compile(u'([\\U00002600-\\U000027BF])|([\\U0001f300-\\U0001f64F])|([\\U0001f680-\\U0001f6FF])')\n",
    "    return RE_EMOJI.sub(r'', text)"
   ]
  },
  {
   "cell_type": "code",
   "execution_count": 18,
   "metadata": {},
   "outputs": [],
   "source": [
    "def cleaner(text):\n",
    "    # Make lowercase\n",
    "    text = text.lower()\n",
    "    \n",
    "    # Remove non-letters\n",
    "    text = re.sub(\"[^a-zA-Z]\", \" \", text)\n",
    "\n",
    "    # Remove HTML special entities (e.g. &amp;)\n",
    "    text = re.sub(r'\\&\\w*;', '', text)\n",
    "    \n",
    "    # Remove hyperlinks\n",
    "    text = re.sub(r'https?:\\/\\/.*\\/\\w*', '', text)\n",
    "    \n",
    "    # Remove punctuation and split 's, 't, 've with a space for filter\n",
    "    text = re.sub(r'[' + string.punctuation.replace('@', '') + ']+', ' ', text)\n",
    "    \n",
    "    # Remove words with 2 or fewer letters\n",
    "    text = re.sub(r'\\b\\w{1,2}\\b', '', text)\n",
    "    \n",
    "    # Remove whitespace (including new line characters)\n",
    "    text = re.sub(r'\\s\\s+', ' ', text)\n",
    "    \n",
    "    # Remove emoji\n",
    "    text = strip_emoji(text)\n",
    "    \n",
    "    # Remove characters beyond Basic Multilingual Plane (BMP) of Unicode:\n",
    "    text = ''.join(c for c in text if c <= '\\uFFFF') \n",
    "    \n",
    "    return text"
   ]
  },
  {
   "cell_type": "code",
   "execution_count": 19,
   "metadata": {},
   "outputs": [
    {
     "data": {
      "text/plain": [
       "0    RULE REMINDER: You cannot Post Offers to Trade...\n",
       "1    r/Basketball Weekly Discussion: Basketball Sho...\n",
       "2    New Video: How Jimmy Butler Manages to be Both...\n",
       "3    LIKE MIKE - COVErgeist ft BIG 6 - lyric video ...\n",
       "4    Is it unusual that after i gained 50lbs in 5 m...\n",
       "Name: title, dtype: object"
      ]
     },
     "execution_count": 19,
     "metadata": {},
     "output_type": "execute_result"
    }
   ],
   "source": [
    "# Lets take alook at title before we clean \n",
    "df['title'].head()"
   ]
  },
  {
   "cell_type": "code",
   "execution_count": 20,
   "metadata": {},
   "outputs": [],
   "source": [
    "# Apply cleaner function\n",
    "df['title'] = df['title'].apply(cleaner)"
   ]
  },
  {
   "cell_type": "code",
   "execution_count": 21,
   "metadata": {},
   "outputs": [
    {
     "data": {
      "text/plain": [
       "0    rule reminder you cannot post offers trade sel...\n",
       "1     basketball weekly discussion basketball shoes...\n",
       "2    new video how jimmy butler manages both the mo...\n",
       "3    like mike covergeist big lyric video with high...\n",
       "4     unusual that after gained lbs months somehow ...\n",
       "Name: title, dtype: object"
      ]
     },
     "execution_count": 21,
     "metadata": {},
     "output_type": "execute_result"
    }
   ],
   "source": [
    "# Lets check title after cleaning \n",
    "df['title'].head()"
   ]
  },
  {
   "cell_type": "code",
   "execution_count": 22,
   "metadata": {},
   "outputs": [
    {
     "data": {
      "text/plain": [
       "0    Admins have banned other subs for this.\\n\\nNo ...\n",
       "1    #Welcome to /r/Basketball's weekly Shoe Discus...\n",
       "2                                                     \n",
       "3                                                     \n",
       "4    The change in my athleticism has been insane, ...\n",
       "Name: selftext, dtype: object"
      ]
     },
     "execution_count": 22,
     "metadata": {},
     "output_type": "execute_result"
    }
   ],
   "source": [
    "# Lets take alook at selftext before cleaning \n",
    "df['selftext'].head()"
   ]
  },
  {
   "cell_type": "code",
   "execution_count": 23,
   "metadata": {},
   "outputs": [],
   "source": [
    "# Apply cleaner function to selftext\n",
    "df['selftext'] = df['selftext'].astype(str)\n",
    "df['selftext'] = df['selftext'].apply(cleaner)"
   ]
  },
  {
   "cell_type": "code",
   "execution_count": 24,
   "metadata": {},
   "outputs": [
    {
     "data": {
      "text/plain": [
       "0    admins have banned other subs for this asking ...\n",
       "1     welcome basketball weekly shoe discussion thr...\n",
       "2                                                     \n",
       "3                                                     \n",
       "4    the change athleticism has been insane can run...\n",
       "Name: selftext, dtype: object"
      ]
     },
     "execution_count": 24,
     "metadata": {},
     "output_type": "execute_result"
    }
   ],
   "source": [
    "# Take alook at selftext after cleaning\n",
    "df['selftext'].head()"
   ]
  },
  {
   "cell_type": "markdown",
   "metadata": {},
   "source": [
    "## 5. Pre-processing"
   ]
  },
  {
   "cell_type": "code",
   "execution_count": 25,
   "metadata": {},
   "outputs": [],
   "source": [
    "# To address the issue of too many null cells in selftext, I will combine title and selftext as a new column\n",
    "df['text'] = df['title'] + \" \" + df['selftext']"
   ]
  },
  {
   "cell_type": "code",
   "execution_count": 26,
   "metadata": {},
   "outputs": [],
   "source": [
    "# I will keep text, upvote_ratio, ups, score, num_comments and subreddit for analysis \n",
    "df = df[['text', 'upvote_ratio','ups','score','num_comments','subreddit']]"
   ]
  },
  {
   "cell_type": "code",
   "execution_count": 27,
   "metadata": {},
   "outputs": [
    {
     "data": {
      "text/html": [
       "<div>\n",
       "<style scoped>\n",
       "    .dataframe tbody tr th:only-of-type {\n",
       "        vertical-align: middle;\n",
       "    }\n",
       "\n",
       "    .dataframe tbody tr th {\n",
       "        vertical-align: top;\n",
       "    }\n",
       "\n",
       "    .dataframe thead th {\n",
       "        text-align: right;\n",
       "    }\n",
       "</style>\n",
       "<table border=\"1\" class=\"dataframe\">\n",
       "  <thead>\n",
       "    <tr style=\"text-align: right;\">\n",
       "      <th></th>\n",
       "      <th>text</th>\n",
       "      <th>upvote_ratio</th>\n",
       "      <th>ups</th>\n",
       "      <th>score</th>\n",
       "      <th>num_comments</th>\n",
       "      <th>subreddit</th>\n",
       "    </tr>\n",
       "  </thead>\n",
       "  <tbody>\n",
       "    <tr>\n",
       "      <th>0</th>\n",
       "      <td>rule reminder you cannot post offers trade sel...</td>\n",
       "      <td>0.87</td>\n",
       "      <td>33</td>\n",
       "      <td>33</td>\n",
       "      <td>13</td>\n",
       "      <td>Basketball</td>\n",
       "    </tr>\n",
       "    <tr>\n",
       "      <th>1</th>\n",
       "      <td>basketball weekly discussion basketball shoes...</td>\n",
       "      <td>1.00</td>\n",
       "      <td>2</td>\n",
       "      <td>2</td>\n",
       "      <td>0</td>\n",
       "      <td>Basketball</td>\n",
       "    </tr>\n",
       "    <tr>\n",
       "      <th>2</th>\n",
       "      <td>new video how jimmy butler manages both the mo...</td>\n",
       "      <td>0.97</td>\n",
       "      <td>107</td>\n",
       "      <td>107</td>\n",
       "      <td>11</td>\n",
       "      <td>Basketball</td>\n",
       "    </tr>\n",
       "    <tr>\n",
       "      <th>3</th>\n",
       "      <td>like mike covergeist big lyric video with high...</td>\n",
       "      <td>0.40</td>\n",
       "      <td>0</td>\n",
       "      <td>0</td>\n",
       "      <td>0</td>\n",
       "      <td>Basketball</td>\n",
       "    </tr>\n",
       "    <tr>\n",
       "      <th>4</th>\n",
       "      <td>unusual that after gained lbs months somehow ...</td>\n",
       "      <td>0.97</td>\n",
       "      <td>98</td>\n",
       "      <td>98</td>\n",
       "      <td>63</td>\n",
       "      <td>Basketball</td>\n",
       "    </tr>\n",
       "  </tbody>\n",
       "</table>\n",
       "</div>"
      ],
      "text/plain": [
       "                                                text  upvote_ratio  ups  \\\n",
       "0  rule reminder you cannot post offers trade sel...          0.87   33   \n",
       "1   basketball weekly discussion basketball shoes...          1.00    2   \n",
       "2  new video how jimmy butler manages both the mo...          0.97  107   \n",
       "3  like mike covergeist big lyric video with high...          0.40    0   \n",
       "4   unusual that after gained lbs months somehow ...          0.97   98   \n",
       "\n",
       "   score  num_comments   subreddit  \n",
       "0     33            13  Basketball  \n",
       "1      2             0  Basketball  \n",
       "2    107            11  Basketball  \n",
       "3      0             0  Basketball  \n",
       "4     98            63  Basketball  "
      ]
     },
     "execution_count": 27,
     "metadata": {},
     "output_type": "execute_result"
    }
   ],
   "source": [
    "# Lets take a look at our new df\n",
    "df.head()"
   ]
  },
  {
   "cell_type": "code",
   "execution_count": 28,
   "metadata": {},
   "outputs": [
    {
     "data": {
      "text/plain": [
       "(1797, 6)"
      ]
     },
     "execution_count": 28,
     "metadata": {},
     "output_type": "execute_result"
    }
   ],
   "source": [
    "df.shape"
   ]
  },
  {
   "cell_type": "code",
   "execution_count": 29,
   "metadata": {},
   "outputs": [],
   "source": [
    "# I have chosen to use lemmatizer over porter stemmer because \n",
    "# Lemmatization, takes into consideration the morphological analysis of the words.\n",
    "lemmatizer = WordNetLemmatizer()"
   ]
  },
  {
   "cell_type": "code",
   "execution_count": 30,
   "metadata": {},
   "outputs": [],
   "source": [
    "def lemmatize_words(text):\n",
    "    words = text.split()\n",
    "    lemma_words = ''\n",
    "    for word in words:\n",
    "        lemma_words += (lemmatizer.lemmatize(word) + ' ')\n",
    "    return lemma_words"
   ]
  },
  {
   "cell_type": "code",
   "execution_count": 31,
   "metadata": {},
   "outputs": [],
   "source": [
    "df['text'] = df['text'].apply(lemmatize_words)"
   ]
  },
  {
   "cell_type": "code",
   "execution_count": 32,
   "metadata": {},
   "outputs": [
    {
     "data": {
      "text/plain": [
       "'rule reminder you cannot post offer trade sell copyright material this includes vertshock and similar program admins have banned other sub for this asking for posting code for program like vert shock asking for posting illegal stream for game you will banned will not allow the entire sub closed for few bad apple this your warning '"
      ]
     },
     "execution_count": 32,
     "metadata": {},
     "output_type": "execute_result"
    }
   ],
   "source": [
    "# Take alook at the lemmatized text\n",
    "df['text'][0]"
   ]
  },
  {
   "cell_type": "code",
   "execution_count": 33,
   "metadata": {},
   "outputs": [],
   "source": [
    "# Changing subreddit to int 1 and 0\n",
    "df['subreddit'] = df['subreddit'].map({'Basketball': 1, 'soccer': 0})"
   ]
  },
  {
   "cell_type": "code",
   "execution_count": 34,
   "metadata": {},
   "outputs": [
    {
     "data": {
      "text/html": [
       "<div>\n",
       "<style scoped>\n",
       "    .dataframe tbody tr th:only-of-type {\n",
       "        vertical-align: middle;\n",
       "    }\n",
       "\n",
       "    .dataframe tbody tr th {\n",
       "        vertical-align: top;\n",
       "    }\n",
       "\n",
       "    .dataframe thead th {\n",
       "        text-align: right;\n",
       "    }\n",
       "</style>\n",
       "<table border=\"1\" class=\"dataframe\">\n",
       "  <thead>\n",
       "    <tr style=\"text-align: right;\">\n",
       "      <th></th>\n",
       "      <th>text</th>\n",
       "      <th>upvote_ratio</th>\n",
       "      <th>ups</th>\n",
       "      <th>score</th>\n",
       "      <th>num_comments</th>\n",
       "      <th>subreddit</th>\n",
       "    </tr>\n",
       "  </thead>\n",
       "  <tbody>\n",
       "    <tr>\n",
       "      <th>0</th>\n",
       "      <td>rule reminder you cannot post offer trade sell...</td>\n",
       "      <td>0.87</td>\n",
       "      <td>33</td>\n",
       "      <td>33</td>\n",
       "      <td>13</td>\n",
       "      <td>1</td>\n",
       "    </tr>\n",
       "    <tr>\n",
       "      <th>1</th>\n",
       "      <td>basketball weekly discussion basketball shoe s...</td>\n",
       "      <td>1.00</td>\n",
       "      <td>2</td>\n",
       "      <td>2</td>\n",
       "      <td>0</td>\n",
       "      <td>1</td>\n",
       "    </tr>\n",
       "    <tr>\n",
       "      <th>2</th>\n",
       "      <td>new video how jimmy butler manages both the mo...</td>\n",
       "      <td>0.97</td>\n",
       "      <td>107</td>\n",
       "      <td>107</td>\n",
       "      <td>11</td>\n",
       "      <td>1</td>\n",
       "    </tr>\n",
       "    <tr>\n",
       "      <th>3</th>\n",
       "      <td>like mike covergeist big lyric video with high...</td>\n",
       "      <td>0.40</td>\n",
       "      <td>0</td>\n",
       "      <td>0</td>\n",
       "      <td>0</td>\n",
       "      <td>1</td>\n",
       "    </tr>\n",
       "    <tr>\n",
       "      <th>4</th>\n",
       "      <td>unusual that after gained lb month somehow bec...</td>\n",
       "      <td>0.97</td>\n",
       "      <td>98</td>\n",
       "      <td>98</td>\n",
       "      <td>63</td>\n",
       "      <td>1</td>\n",
       "    </tr>\n",
       "  </tbody>\n",
       "</table>\n",
       "</div>"
      ],
      "text/plain": [
       "                                                text  upvote_ratio  ups  \\\n",
       "0  rule reminder you cannot post offer trade sell...          0.87   33   \n",
       "1  basketball weekly discussion basketball shoe s...          1.00    2   \n",
       "2  new video how jimmy butler manages both the mo...          0.97  107   \n",
       "3  like mike covergeist big lyric video with high...          0.40    0   \n",
       "4  unusual that after gained lb month somehow bec...          0.97   98   \n",
       "\n",
       "   score  num_comments  subreddit  \n",
       "0     33            13          1  \n",
       "1      2             0          1  \n",
       "2    107            11          1  \n",
       "3      0             0          1  \n",
       "4     98            63          1  "
      ]
     },
     "execution_count": 34,
     "metadata": {},
     "output_type": "execute_result"
    }
   ],
   "source": [
    "df.head()"
   ]
  },
  {
   "cell_type": "code",
   "execution_count": 35,
   "metadata": {},
   "outputs": [],
   "source": [
    "# Create a new column call text length\n",
    "df['text length'] = df['text'].apply(len)"
   ]
  },
  {
   "cell_type": "code",
   "execution_count": 36,
   "metadata": {},
   "outputs": [],
   "source": [
    "# Export the cleaned df dataset\n",
    "export_path ='../Project 3/datasets/combine_cleaned.csv'\n",
    "df.to_csv(export_path, index=False)"
   ]
  },
  {
   "cell_type": "markdown",
   "metadata": {},
   "source": [
    "## 6. Exploratory Data Analysis (EDA)"
   ]
  },
  {
   "cell_type": "code",
   "execution_count": 37,
   "metadata": {},
   "outputs": [
    {
     "data": {
      "text/plain": [
       "<matplotlib.axes._subplots.AxesSubplot at 0x7fed7c86f730>"
      ]
     },
     "execution_count": 37,
     "metadata": {},
     "output_type": "execute_result"
    },
    {
     "data": {
      "image/png": "[encoded data removed]",
      "text/plain": [
       "<Figure size 864x576 with 1 Axes>"
      ]
     },
     "metadata": {
      "needs_background": "light"
     },
     "output_type": "display_data"
    }
   ],
   "source": [
    "# Lets take alook at text length to ups\n",
    "# There seems to be three outliers, lets investigate further\n",
    "plt.figure(figsize=(12,8))\n",
    "plt.title('Text Length vs Ups')\n",
    "sns.scatterplot(x='text length',y='ups',data=df, hue='subreddit')"
   ]
  },
  {
   "cell_type": "markdown",
   "metadata": {},
   "source": [
    "### Comment\n",
    "- Seems like shorter text length gets more ups\n",
    "- The data is not normally distributed and it is right skewed"
   ]
  },
  {
   "cell_type": "code",
   "execution_count": 38,
   "metadata": {},
   "outputs": [
    {
     "data": {
      "text/plain": [
       "<matplotlib.axes._subplots.AxesSubplot at 0x7fed711a27c0>"
      ]
     },
     "execution_count": 38,
     "metadata": {},
     "output_type": "execute_result"
    },
    {
     "data": {
      "image/png": "[encoded data removed]",
      "text/plain": [
       "<Figure size 864x576 with 1 Axes>"
      ]
     },
     "metadata": {
      "needs_background": "light"
     },
     "output_type": "display_data"
    }
   ],
   "source": [
    "plt.figure(figsize=(12,8))\n",
    "plt.title('Text Length Distribution Plot')\n",
    "plt.ylabel('Frequency')\n",
    "sns.distplot(df['text length'])"
   ]
  },
  {
   "cell_type": "markdown",
   "metadata": {},
   "source": [
    "### Comment\n",
    "- The majority of text are short text below 5000 however there seems to be some outliers\n",
    "- It is not normally distributed and it is right skewed"
   ]
  },
  {
   "cell_type": "code",
   "execution_count": 39,
   "metadata": {},
   "outputs": [
    {
     "data": {
      "text/html": [
       "<div>\n",
       "<style scoped>\n",
       "    .dataframe tbody tr th:only-of-type {\n",
       "        vertical-align: middle;\n",
       "    }\n",
       "\n",
       "    .dataframe tbody tr th {\n",
       "        vertical-align: top;\n",
       "    }\n",
       "\n",
       "    .dataframe thead th {\n",
       "        text-align: right;\n",
       "    }\n",
       "</style>\n",
       "<table border=\"1\" class=\"dataframe\">\n",
       "  <thead>\n",
       "    <tr style=\"text-align: right;\">\n",
       "      <th></th>\n",
       "      <th>text</th>\n",
       "      <th>upvote_ratio</th>\n",
       "      <th>ups</th>\n",
       "      <th>score</th>\n",
       "      <th>num_comments</th>\n",
       "      <th>subreddit</th>\n",
       "      <th>text length</th>\n",
       "    </tr>\n",
       "  </thead>\n",
       "  <tbody>\n",
       "    <tr>\n",
       "      <th>1118</th>\n",
       "      <td>relieving the relegation battle epl ahh the en...</td>\n",
       "      <td>0.85</td>\n",
       "      <td>52</td>\n",
       "      <td>52</td>\n",
       "      <td>17</td>\n",
       "      <td>0</td>\n",
       "      <td>17474</td>\n",
       "    </tr>\n",
       "    <tr>\n",
       "      <th>1151</th>\n",
       "      <td>the most prolific goal assist combination foot...</td>\n",
       "      <td>0.95</td>\n",
       "      <td>254</td>\n",
       "      <td>254</td>\n",
       "      <td>70</td>\n",
       "      <td>0</td>\n",
       "      <td>13541</td>\n",
       "    </tr>\n",
       "    <tr>\n",
       "      <th>1484</th>\n",
       "      <td>brazilian big series episode palmeiras previou...</td>\n",
       "      <td>0.92</td>\n",
       "      <td>148</td>\n",
       "      <td>148</td>\n",
       "      <td>18</td>\n",
       "      <td>0</td>\n",
       "      <td>28659</td>\n",
       "    </tr>\n",
       "  </tbody>\n",
       "</table>\n",
       "</div>"
      ],
      "text/plain": [
       "                                                   text  upvote_ratio  ups  \\\n",
       "1118  relieving the relegation battle epl ahh the en...          0.85   52   \n",
       "1151  the most prolific goal assist combination foot...          0.95  254   \n",
       "1484  brazilian big series episode palmeiras previou...          0.92  148   \n",
       "\n",
       "      score  num_comments  subreddit  text length  \n",
       "1118     52            17          0        17474  \n",
       "1151    254            70          0        13541  \n",
       "1484    148            18          0        28659  "
      ]
     },
     "execution_count": 39,
     "metadata": {},
     "output_type": "execute_result"
    }
   ],
   "source": [
    "df[df['text length']>10000]"
   ]
  },
  {
   "cell_type": "code",
   "execution_count": 40,
   "metadata": {},
   "outputs": [],
   "source": [
    "# Remove the three outliers \n",
    "df.drop([1118,1151,1484], axis=0, inplace=True)"
   ]
  },
  {
   "cell_type": "code",
   "execution_count": 41,
   "metadata": {},
   "outputs": [
    {
     "data": {
      "text/plain": [
       "Text(0.5, 0.98, 'Histogram on Text Length')"
      ]
     },
     "execution_count": 41,
     "metadata": {},
     "output_type": "execute_result"
    },
    {
     "data": {
      "image/png": "[encoded data removed]",
      "text/plain": [
       "<Figure size 1440x720 with 2 Axes>"
      ]
     },
     "metadata": {
      "needs_background": "light"
     },
     "output_type": "display_data"
    }
   ],
   "source": [
    "# Lets take a look at text length distribution, 1=Basketball, 0=Soccer\n",
    "g = sns.FacetGrid(df,col='subreddit', height=10, aspect=1)\n",
    "g.map(plt.hist,'text length')\n",
    "g.axes[0,0].set_ylabel('Count')\n",
    "g.axes[0,1].set_ylabel('Count')\n",
    "g.fig.suptitle('Histogram on Text Length')"
   ]
  },
  {
   "cell_type": "markdown",
   "metadata": {},
   "source": [
    "### Comment\n",
    "- Looking from the scatter plot and histogram graph, soccer text length are generally longer than basketball\n",
    "- There is weak correlation between text length and ups. Shorter text tends to get more ups. \n",
    "- To address the issue of outliers, the three outliers will be removed\n",
    "- The distribution of text length seems to be right skewed according to the distribution plot above"
   ]
  },
  {
   "cell_type": "code",
   "execution_count": 42,
   "metadata": {},
   "outputs": [
    {
     "data": {
      "text/plain": [
       "<matplotlib.axes._subplots.AxesSubplot at 0x7fed7c9971c0>"
      ]
     },
     "execution_count": 42,
     "metadata": {},
     "output_type": "execute_result"
    },
    {
     "data": {
      "image/png": "[encoded data removed]",
      "text/plain": [
       "<Figure size 864x576 with 2 Axes>"
      ]
     },
     "metadata": {
      "needs_background": "light"
     },
     "output_type": "display_data"
    }
   ],
   "source": [
    "plt.figure(figsize=(12,8))\n",
    "plt.title('Correlation Matrix')\n",
    "sns.heatmap(df.corr(),cmap='coolwarm', annot=True, linecolor='white',linewidths=1)"
   ]
  },
  {
   "cell_type": "markdown",
   "metadata": {},
   "source": [
    "### Comment\n",
    "- Seems like there is no meaningful correlation between variables\n",
    "- There seems to be moderate correlation between ups and number of comments(0.5), score and number of comments(0.5).\n",
    "- The perfect correlation between ups and score is because they are bascially the same thing. Ups is the number of viewers find the post useful, score is the difference between ups and downs(not useful). "
   ]
  },
  {
   "cell_type": "code",
   "execution_count": 43,
   "metadata": {},
   "outputs": [
    {
     "data": {
      "text/plain": [
       "Text(0.5, 1.0, 'Score vs Number of Comments')"
      ]
     },
     "execution_count": 43,
     "metadata": {},
     "output_type": "execute_result"
    },
    {
     "data": {
      "image/png": "[encoded data removed]",
      "text/plain": [
       "<Figure size 804.175x576 with 1 Axes>"
      ]
     },
     "metadata": {
      "needs_background": "light"
     },
     "output_type": "display_data"
    }
   ],
   "source": [
    "sns.lmplot(x='num_comments',y='score',data=df, hue='subreddit', height= 8, aspect=1.3)\n",
    "ax = plt.gca()\n",
    "ax.set_title(\"Score vs Number of Comments\")"
   ]
  },
  {
   "cell_type": "markdown",
   "metadata": {},
   "source": [
    "### Comment\n",
    "- There seem to be a moderate relationship between score and number of comments. Post that have high score tends to attract more comments"
   ]
  },
  {
   "cell_type": "code",
   "execution_count": 44,
   "metadata": {},
   "outputs": [
    {
     "data": {
      "text/plain": [
       "Text(0.5, 1.0, 'Ups vs Number of Comments')"
      ]
     },
     "execution_count": 44,
     "metadata": {},
     "output_type": "execute_result"
    },
    {
     "data": {
      "image/png": "[encoded data removed]",
      "text/plain": [
       "<Figure size 804.175x576 with 1 Axes>"
      ]
     },
     "metadata": {
      "needs_background": "light"
     },
     "output_type": "display_data"
    }
   ],
   "source": [
    "sns.lmplot(x='num_comments',y='ups',data=df, hue='subreddit', height= 8, aspect=1.3)\n",
    "ax = plt.gca()\n",
    "ax.set_title(\"Ups vs Number of Comments\")"
   ]
  },
  {
   "cell_type": "markdown",
   "metadata": {},
   "source": [
    "### Comment\n",
    "- There seem to be a moderate correlation between ups and number of comments. The more ups a post get the more the comments. \n",
    "- Soccer seems to have more comments than basketball"
   ]
  },
  {
   "cell_type": "markdown",
   "metadata": {},
   "source": [
    "The WordCloud is from Peekaboo."
   ]
  },
  {
   "cell_type": "code",
   "execution_count": 45,
   "metadata": {},
   "outputs": [],
   "source": [
    "# From https://stackoverflow.com/questions/16645799/how-to-create-a-word-cloud-from-a-corpus-in-python\n",
    "from wordcloud import WordCloud, STOPWORDS\n",
    "stopwords = set(STOPWORDS)\n",
    "\n",
    "def show_wordcloud(data, title = None):\n",
    "    wordcloud = WordCloud(\n",
    "        background_color='white',\n",
    "        stopwords=stopwords,\n",
    "        max_words=200,\n",
    "        max_font_size=40, \n",
    "        scale=3,\n",
    "        random_state=1 \n",
    "    ).generate(str(data))\n",
    "\n",
    "    fig = plt.figure(1, figsize=(12, 12))\n",
    "    plt.axis('off')\n",
    "    if title: \n",
    "        fig.suptitle(title, fontsize=20)\n",
    "        fig.subplots_adjust(top=2.3)\n",
    "\n",
    "    plt.imshow(wordcloud)\n",
    "    plt.show()"
   ]
  },
  {
   "cell_type": "code",
   "execution_count": 46,
   "metadata": {},
   "outputs": [
    {
     "data": {
      "image/png": "[encoded data removed]",
      "text/plain": [
       "<Figure size 864x864 with 1 Axes>"
      ]
     },
     "metadata": {
      "needs_background": "light"
     },
     "output_type": "display_data"
    }
   ],
   "source": [
    "show_wordcloud(df['text'])"
   ]
  },
  {
   "cell_type": "markdown",
   "metadata": {},
   "source": [
    "### Comment\n",
    "- The popular words used are basketball, match, thread, player, help, post, league, shooting, play, nba, game etc\n",
    "- Based on the above EDA, there is enough information to anwer the problem statement with the provided data. \n",
    "- During the inspection of data, summary statistics were generated, it shows there are relevant data to address the problem statement. \n",
    "- During the EDA stage, some interesting relationships between variables were identified. Also popular words were uncovered. Therefore, there is enough information at hand to address the problem statement. "
   ]
  },
  {
   "cell_type": "markdown",
   "metadata": {},
   "source": [
    "## 7. Create Feature Matrix and Target"
   ]
  },
  {
   "cell_type": "code",
   "execution_count": 47,
   "metadata": {},
   "outputs": [],
   "source": [
    "X = df['text']\n",
    "y = df['subreddit']"
   ]
  },
  {
   "cell_type": "code",
   "execution_count": 48,
   "metadata": {},
   "outputs": [],
   "source": [
    "# Train/Test split\n",
    "X_train, X_test, y_train, y_test = train_test_split(X, \n",
    "                                                    y, \n",
    "                                                    random_state=42, \n",
    "                                                    test_size= 0.2, \n",
    "                                                    shuffle=True, \n",
    "                                                    stratify=y)"
   ]
  },
  {
   "cell_type": "code",
   "execution_count": 49,
   "metadata": {},
   "outputs": [],
   "source": [
    "# Splitting the training set again\n",
    "# This is to ensure there is no data leakage and to make sure, X_test and y_test remains untouched\n",
    "X_train_2, X_test_2, y_train_2, y_test_2 = train_test_split(X_train, \n",
    "                                                            y_train, \n",
    "                                                            random_state=42,\n",
    "                                                            test_size=0.2,\n",
    "                                                            shuffle=True, \n",
    "                                                            stratify=y_train)"
   ]
  },
  {
   "cell_type": "markdown",
   "metadata": {},
   "source": [
    "### Baseline Score"
   ]
  },
  {
   "cell_type": "code",
   "execution_count": 50,
   "metadata": {
    "scrolled": true
   },
   "outputs": [
    {
     "data": {
      "text/plain": [
       "1    0.550167\n",
       "0    0.449833\n",
       "Name: subreddit, dtype: float64"
      ]
     },
     "execution_count": 50,
     "metadata": {},
     "output_type": "execute_result"
    }
   ],
   "source": [
    "y.value_counts(normalize=True)"
   ]
  },
  {
   "cell_type": "markdown",
   "metadata": {},
   "source": [
    "### Comment\n",
    "- If we were to pick every post belongs to basketball, 55% of the time we will be correct. "
   ]
  },
  {
   "cell_type": "markdown",
   "metadata": {},
   "source": [
    "## 8. Model Selection"
   ]
  },
  {
   "cell_type": "markdown",
   "metadata": {},
   "source": [
    "In this section, I will explore 3 models. They are Naive Bayes, logistic regression and KNN. I will run each model twice, first time using CountVertorizer and second time using Term Frequency-Inverse Document Frequency (TF-IDF). I will provide a short explaination of each model and evaluate its performance success/downfalls. \n",
    "\n",
    "1. Naive Bayes\n",
    "    - The Naive Bayes classification algorithm is a classificiation modeling techinque which relies on Bayes Theorem. It makes one simplifying assumption that features are independent of one another. \n",
    "    - The advantages of Naive Bayes are it is easy to calculate probabilities and returns empirically accurate result.\n",
    "    - The disadvantage is the assumption of feature independence is unrealistic, especially in the case of text data. The predicted probabilites can be quite bad. \n",
    "\n",
    "2. Logistic Regression\n",
    "    - Logistic regression is used to describe data and to explain the relationship between one dependent binary variable and one or more nominal, ordinal, interval or ratio-level independent variables.\n",
    "    - Logistic regression uses the logit link to bend our line of best fit. This allows us to predict between 0 and 1 for any value of inputs. \n",
    "    \n",
    "#### $$\\text{logit}\\left(P(Y = 1)\\right) = \\beta_0 + \\beta_1X_1 + \\beta_2X_2 + \\cdots + \\beta_pX_p$$\n",
    "\n",
    "    - The advantage of logistic regression are the coefficients are interpretable and it shares similar properties to linear regression. \n",
    "    - The disadvantage is the assumption of linearity between the dependent variable and independent variables. Logistic Regression requires average or no mulitcollinearity between independent variables. \n",
    "\n",
    "3. K-Nearest-Neighbor \n",
    "\n",
    "    - The k-nearest neighbors algorithm (k-NN) is a non-parametric method. In k-NN classification, the output is a class membership. An object is classified by a plurality vote of its neighbors, with the object being assigned to the class most common among its k nearest neighbors (k is a positive integer, typically small). If k = 1, then the object is simply assigned to the class of that single nearest neighbor.\n",
    "    - The advantage of KNN is it has no training period. KNN is called Lazy Learner (Instance based learning). It does not learn anything in the training period. It does not derive any discriminative function from the training data. In other words, there is no training period for it. It stores the training dataset and learns from it only at the time of making real time predictions. This makes the KNN algorithm much faster than other algorithms that require training e.g. SVM, Linear Regression etc. \n",
    "    - Since the KNN algorithm requires no training before making predictions, new data can be added seamlessly which will not impact the accuracy of the algorithm. \n",
    "    - KNN is very easy to implement. There are only two parameters required to implement KNN i.e. the value of K and the distance function (e.g. Euclidean or Manhattan etc.)\n",
    "    - The disadvantage of KNN is it does not work well with large dataset. In large datasets, the cost of calculating the distance between the new point and each existing points is huge which degrades the performance of the algorithm.\n",
    "    - The KNN algorithm doesn't work well with high dimensional data because with large number of dimensions, it becomes difficult for the algorithm to calculate the distance in each dimension.\n",
    "    - There is also no parameters for interpretation of coefficient. "
   ]
  },
  {
   "cell_type": "markdown",
   "metadata": {},
   "source": [
    "### CountVectorize"
   ]
  },
  {
   "cell_type": "markdown",
   "metadata": {},
   "source": [
    "### Naive Bayes"
   ]
  },
  {
   "cell_type": "code",
   "execution_count": 51,
   "metadata": {},
   "outputs": [
    {
     "name": "stdout",
     "output_type": "stream",
     "text": [
      "72.95620894432068\n"
     ]
    }
   ],
   "source": [
    "# Start our timer.\n",
    "t0 = time.time()\n",
    "\n",
    "pipe = Pipeline([\n",
    "    ('cv', CountVectorizer()),\n",
    "    ('nb', MultinomialNB())\n",
    "])\n",
    "params = {\n",
    "    'cv__stop_words': [None, 'english'],\n",
    "    'cv__ngram_range': [(1, 1), (1, 2)],\n",
    "    'cv__max_df': [.01, .02, .04, .03, .05],\n",
    "    'cv__min_df': [2, 4, 6],\n",
    "    'cv__max_features': [1000, 2000, 3000, 4000, 5000],\n",
    "}\n",
    "gs = GridSearchCV(pipe, param_grid=params, cv=5, n_jobs=-1)\n",
    "gs.fit(X_train_2, y_train_2)\n",
    "\n",
    "# Stop our timer and print the result.\n",
    "print(time.time()-t0)"
   ]
  },
  {
   "cell_type": "code",
   "execution_count": 52,
   "metadata": {},
   "outputs": [
    {
     "name": "stdout",
     "output_type": "stream",
     "text": [
      "best score: 0.9250692994114298\n"
     ]
    }
   ],
   "source": [
    "print('best score:', gs.best_score_)"
   ]
  },
  {
   "cell_type": "code",
   "execution_count": 53,
   "metadata": {},
   "outputs": [
    {
     "name": "stdout",
     "output_type": "stream",
     "text": [
      "best params: {'cv__max_df': 0.03, 'cv__max_features': 5000, 'cv__min_df': 2, 'cv__ngram_range': (1, 2), 'cv__stop_words': 'english'}\n"
     ]
    }
   ],
   "source": [
    "# Finding the best parameters \n",
    "print('best params:', gs.best_params_)"
   ]
  },
  {
   "cell_type": "code",
   "execution_count": 54,
   "metadata": {},
   "outputs": [],
   "source": [
    "cv = CountVectorizer(analyzer = \"word\",\n",
    "                     stop_words='english',\n",
    "                     max_df=0.03,\n",
    "                     min_df=2,\n",
    "                     ngram_range=(1,2),\n",
    "                     max_features=5000)"
   ]
  },
  {
   "cell_type": "code",
   "execution_count": 55,
   "metadata": {},
   "outputs": [],
   "source": [
    "# Fit our CountVectorizer on the training data and transform training data.\n",
    "X_train_2_cv = pd.DataFrame(cv.fit_transform(X_train_2).todense(),\n",
    "                          columns = cv.get_feature_names())"
   ]
  },
  {
   "cell_type": "code",
   "execution_count": 56,
   "metadata": {},
   "outputs": [],
   "source": [
    "# Transform our testing data with the already-fit CountVectorizer.\n",
    "X_test_2_cv = pd.DataFrame(cv.transform(X_test_2).todense(),\n",
    "                         columns = cv.get_feature_names())"
   ]
  },
  {
   "cell_type": "code",
   "execution_count": 57,
   "metadata": {},
   "outputs": [],
   "source": [
    "nb = MultinomialNB()"
   ]
  },
  {
   "cell_type": "code",
   "execution_count": 58,
   "metadata": {},
   "outputs": [
    {
     "data": {
      "text/plain": [
       "MultinomialNB()"
      ]
     },
     "execution_count": 58,
     "metadata": {},
     "output_type": "execute_result"
    }
   ],
   "source": [
    "nb.fit(X_train_2_cv,y_train_2)"
   ]
  },
  {
   "cell_type": "code",
   "execution_count": 59,
   "metadata": {},
   "outputs": [],
   "source": [
    "y_pred = nb.predict(X_test_2_cv)"
   ]
  },
  {
   "cell_type": "code",
   "execution_count": 60,
   "metadata": {},
   "outputs": [
    {
     "name": "stdout",
     "output_type": "stream",
     "text": [
      "model accuracy on itself: 0.9712543554006968\n",
      "model accuracy on test set: 0.9547038327526133\n"
     ]
    }
   ],
   "source": [
    "print('model accuracy on itself:', nb.score(X_train_2_cv, y_train_2))\n",
    "print('model accuracy on test set:', nb.score(X_test_2_cv, y_test_2))"
   ]
  },
  {
   "cell_type": "code",
   "execution_count": 61,
   "metadata": {},
   "outputs": [
    {
     "name": "stdout",
     "output_type": "stream",
     "text": [
      "[[117  12]\n",
      " [  1 157]]\n",
      "\n",
      "\n",
      "              precision    recall  f1-score   support\n",
      "\n",
      "           0       0.99      0.91      0.95       129\n",
      "           1       0.93      0.99      0.96       158\n",
      "\n",
      "    accuracy                           0.95       287\n",
      "   macro avg       0.96      0.95      0.95       287\n",
      "weighted avg       0.96      0.95      0.95       287\n",
      "\n"
     ]
    }
   ],
   "source": [
    "print(confusion_matrix(y_test_2, y_pred))\n",
    "print('\\n')\n",
    "print(classification_report(y_test_2, y_pred))"
   ]
  },
  {
   "cell_type": "markdown",
   "metadata": {},
   "source": [
    "### Comment\n",
    "\n",
    "- The model has a high mean accuracy score (0.9712543554006968 for training data) and (0.9547038327526133 for validation data)\n",
    "- There seems to be overfitting as as the mean accuracy score for training is higher than mean accuracy for validation data\n",
    "- The model also has a high recall (i.e the percent of positive cases I catch) of 0.99 for basketball. \n",
    "- It also has a high precision (i.e the percent of my predictions were correct) score of 0.93 for basketball.   "
   ]
  },
  {
   "cell_type": "markdown",
   "metadata": {},
   "source": [
    "### Logistic Regression"
   ]
  },
  {
   "cell_type": "code",
   "execution_count": 62,
   "metadata": {},
   "outputs": [
    {
     "name": "stdout",
     "output_type": "stream",
     "text": [
      "162.28403997421265\n"
     ]
    }
   ],
   "source": [
    "# Start our timer.\n",
    "t0 = time.time()\n",
    "\n",
    "pipe = Pipeline([\n",
    "    ('cv', CountVectorizer()),\n",
    "    ('lr', LogisticRegression())\n",
    "])\n",
    "params = {\n",
    "    'cv__stop_words': [None, 'english'],\n",
    "    'cv__ngram_range': [(1, 1), (1, 2)],\n",
    "    'cv__max_df': [.8, .85, .9],\n",
    "    'cv__min_df': [2, 4, 6],\n",
    "    'cv__max_features': [1000, 2000, 3000, 4000, 5000],\n",
    "    'lr__C': [1, .05],\n",
    "    'lr__penalty':['l1','l2']\n",
    "}\n",
    "gs = GridSearchCV(pipe, param_grid=params, cv=5, n_jobs=-1)\n",
    "gs.fit(X_train_2, y_train_2)\n",
    "\n",
    "# Stop our timer and print the result.\n",
    "print(time.time()-t0)"
   ]
  },
  {
   "cell_type": "code",
   "execution_count": 63,
   "metadata": {},
   "outputs": [
    {
     "name": "stdout",
     "output_type": "stream",
     "text": [
      "best score: 0.9390165179419026\n"
     ]
    }
   ],
   "source": [
    "print('best score:', gs.best_score_)"
   ]
  },
  {
   "cell_type": "code",
   "execution_count": 64,
   "metadata": {},
   "outputs": [
    {
     "name": "stdout",
     "output_type": "stream",
     "text": [
      "best params: {'cv__max_df': 0.8, 'cv__max_features': 2000, 'cv__min_df': 2, 'cv__ngram_range': (1, 2), 'cv__stop_words': None, 'lr__C': 1, 'lr__penalty': 'l2'}\n"
     ]
    }
   ],
   "source": [
    "# Getting the beat parameters \n",
    "print('best params:', gs.best_params_)"
   ]
  },
  {
   "cell_type": "code",
   "execution_count": 65,
   "metadata": {},
   "outputs": [],
   "source": [
    "cv = CountVectorizer(analyzer = \"word\",\n",
    "                     stop_words=None,\n",
    "                     max_df=0.8,\n",
    "                     min_df=2,\n",
    "                     ngram_range=(1,2),\n",
    "                     max_features=2000)"
   ]
  },
  {
   "cell_type": "code",
   "execution_count": 66,
   "metadata": {},
   "outputs": [],
   "source": [
    "# Fit our CountVectorizer on the training data and transform training data.\n",
    "X_train_2_cv = pd.DataFrame(cv.fit_transform(X_train_2).todense(),\n",
    "                          columns = cv.get_feature_names())"
   ]
  },
  {
   "cell_type": "code",
   "execution_count": 67,
   "metadata": {},
   "outputs": [],
   "source": [
    "# Transform our testing data with the already-fit CountVectorizer.\n",
    "X_test_2_cv = pd.DataFrame(cv.transform(X_test_2).todense(),\n",
    "                         columns = cv.get_feature_names())"
   ]
  },
  {
   "cell_type": "code",
   "execution_count": 68,
   "metadata": {},
   "outputs": [],
   "source": [
    "lr = LogisticRegression(penalty='l2', C=1)"
   ]
  },
  {
   "cell_type": "code",
   "execution_count": 69,
   "metadata": {},
   "outputs": [
    {
     "data": {
      "text/plain": [
       "LogisticRegression(C=1)"
      ]
     },
     "execution_count": 69,
     "metadata": {},
     "output_type": "execute_result"
    }
   ],
   "source": [
    "lr.fit(X_train_2_cv,y_train_2)"
   ]
  },
  {
   "cell_type": "code",
   "execution_count": 70,
   "metadata": {},
   "outputs": [],
   "source": [
    "y_pred = lr.predict(X_test_2_cv)"
   ]
  },
  {
   "cell_type": "code",
   "execution_count": 71,
   "metadata": {},
   "outputs": [
    {
     "data": {
      "text/plain": [
       "0.9390203151699259"
      ]
     },
     "execution_count": 71,
     "metadata": {},
     "output_type": "execute_result"
    }
   ],
   "source": [
    "cross_val_score(lr, X_train_2_cv, y_train_2, cv=5).mean()"
   ]
  },
  {
   "cell_type": "code",
   "execution_count": 72,
   "metadata": {},
   "outputs": [
    {
     "name": "stdout",
     "output_type": "stream",
     "text": [
      "mean accuracy on itself: 0.9878048780487805\n",
      "mean accuracy on test set: 0.9477351916376306\n"
     ]
    }
   ],
   "source": [
    "print('mean accuracy on itself:', lr.score(X_train_2_cv, y_train_2))\n",
    "print('mean accuracy on test set:', lr.score(X_test_2_cv, y_test_2))"
   ]
  },
  {
   "cell_type": "code",
   "execution_count": 73,
   "metadata": {},
   "outputs": [
    {
     "name": "stdout",
     "output_type": "stream",
     "text": [
      "[[126   3]\n",
      " [ 12 146]]\n",
      "\n",
      "\n",
      "              precision    recall  f1-score   support\n",
      "\n",
      "           0       0.91      0.98      0.94       129\n",
      "           1       0.98      0.92      0.95       158\n",
      "\n",
      "    accuracy                           0.95       287\n",
      "   macro avg       0.95      0.95      0.95       287\n",
      "weighted avg       0.95      0.95      0.95       287\n",
      "\n"
     ]
    }
   ],
   "source": [
    "print(confusion_matrix(y_test_2, y_pred))\n",
    "print('\\n')\n",
    "print(classification_report(y_test_2, y_pred))"
   ]
  },
  {
   "cell_type": "code",
   "execution_count": 74,
   "metadata": {},
   "outputs": [
    {
     "data": {
      "text/html": [
       "<div>\n",
       "<style scoped>\n",
       "    .dataframe tbody tr th:only-of-type {\n",
       "        vertical-align: middle;\n",
       "    }\n",
       "\n",
       "    .dataframe tbody tr th {\n",
       "        vertical-align: top;\n",
       "    }\n",
       "\n",
       "    .dataframe thead th {\n",
       "        text-align: right;\n",
       "    }\n",
       "</style>\n",
       "<table border=\"1\" class=\"dataframe\">\n",
       "  <thead>\n",
       "    <tr style=\"text-align: right;\">\n",
       "      <th></th>\n",
       "      <th>coef</th>\n",
       "      <th>exp_coef</th>\n",
       "    </tr>\n",
       "  </thead>\n",
       "  <tbody>\n",
       "    <tr>\n",
       "      <th>nba</th>\n",
       "      <td>1.962449</td>\n",
       "      <td>7.116731</td>\n",
       "    </tr>\n",
       "    <tr>\n",
       "      <th>basketball</th>\n",
       "      <td>1.725815</td>\n",
       "      <td>5.617098</td>\n",
       "    </tr>\n",
       "    <tr>\n",
       "      <th>what</th>\n",
       "      <td>1.534106</td>\n",
       "      <td>4.637177</td>\n",
       "    </tr>\n",
       "    <tr>\n",
       "      <th>anyone</th>\n",
       "      <td>1.454623</td>\n",
       "      <td>4.282869</td>\n",
       "    </tr>\n",
       "    <tr>\n",
       "      <th>how</th>\n",
       "      <td>1.345290</td>\n",
       "      <td>3.839300</td>\n",
       "    </tr>\n",
       "    <tr>\n",
       "      <th>wnba</th>\n",
       "      <td>1.042556</td>\n",
       "      <td>2.836459</td>\n",
       "    </tr>\n",
       "    <tr>\n",
       "      <th>guy</th>\n",
       "      <td>0.941198</td>\n",
       "      <td>2.563049</td>\n",
       "    </tr>\n",
       "    <tr>\n",
       "      <th>ball</th>\n",
       "      <td>0.911828</td>\n",
       "      <td>2.488868</td>\n",
       "    </tr>\n",
       "    <tr>\n",
       "      <th>game</th>\n",
       "      <td>0.890991</td>\n",
       "      <td>2.437545</td>\n",
       "    </tr>\n",
       "    <tr>\n",
       "      <th>when</th>\n",
       "      <td>0.849210</td>\n",
       "      <td>2.337799</td>\n",
       "    </tr>\n",
       "  </tbody>\n",
       "</table>\n",
       "</div>"
      ],
      "text/plain": [
       "                coef  exp_coef\n",
       "nba         1.962449  7.116731\n",
       "basketball  1.725815  5.617098\n",
       "what        1.534106  4.637177\n",
       "anyone      1.454623  4.282869\n",
       "how         1.345290  3.839300\n",
       "wnba        1.042556  2.836459\n",
       "guy         0.941198  2.563049\n",
       "ball        0.911828  2.488868\n",
       "game        0.890991  2.437545\n",
       "when        0.849210  2.337799"
      ]
     },
     "execution_count": 74,
     "metadata": {},
     "output_type": "execute_result"
    }
   ],
   "source": [
    "lr_coef_value = pd.DataFrame(data=lr.coef_.T, index=cv.get_feature_names())\n",
    "lr_coef_value.columns = ['coef']\n",
    "lr_coef_value['exp_coef'] = np.exp(lr_coef_value['coef'])\n",
    "lr_coef_value.sort_values(by='exp_coef', ascending=False).head(10)"
   ]
  },
  {
   "cell_type": "code",
   "execution_count": 75,
   "metadata": {},
   "outputs": [
    {
     "data": {
      "text/html": [
       "<div>\n",
       "<style scoped>\n",
       "    .dataframe tbody tr th:only-of-type {\n",
       "        vertical-align: middle;\n",
       "    }\n",
       "\n",
       "    .dataframe tbody tr th {\n",
       "        vertical-align: top;\n",
       "    }\n",
       "\n",
       "    .dataframe thead th {\n",
       "        text-align: right;\n",
       "    }\n",
       "</style>\n",
       "<table border=\"1\" class=\"dataframe\">\n",
       "  <thead>\n",
       "    <tr style=\"text-align: right;\">\n",
       "      <th></th>\n",
       "      <th>coef</th>\n",
       "      <th>exp_coef</th>\n",
       "    </tr>\n",
       "  </thead>\n",
       "  <tbody>\n",
       "    <tr>\n",
       "      <th>club</th>\n",
       "      <td>-1.152635</td>\n",
       "      <td>0.315804</td>\n",
       "    </tr>\n",
       "    <tr>\n",
       "      <th>football</th>\n",
       "      <td>-1.071958</td>\n",
       "      <td>0.342337</td>\n",
       "    </tr>\n",
       "    <tr>\n",
       "      <th>sign</th>\n",
       "      <td>-1.066916</td>\n",
       "      <td>0.344068</td>\n",
       "    </tr>\n",
       "    <tr>\n",
       "      <th>penalty</th>\n",
       "      <td>-1.021343</td>\n",
       "      <td>0.360111</td>\n",
       "    </tr>\n",
       "    <tr>\n",
       "      <th>match</th>\n",
       "      <td>-1.019929</td>\n",
       "      <td>0.360620</td>\n",
       "    </tr>\n",
       "    <tr>\n",
       "      <th>goal</th>\n",
       "      <td>-1.008941</td>\n",
       "      <td>0.364605</td>\n",
       "    </tr>\n",
       "    <tr>\n",
       "      <th>bayern</th>\n",
       "      <td>-0.992634</td>\n",
       "      <td>0.370599</td>\n",
       "    </tr>\n",
       "    <tr>\n",
       "      <th>chelsea</th>\n",
       "      <td>-0.980248</td>\n",
       "      <td>0.375218</td>\n",
       "    </tr>\n",
       "    <tr>\n",
       "      <th>will</th>\n",
       "      <td>-0.920893</td>\n",
       "      <td>0.398163</td>\n",
       "    </tr>\n",
       "    <tr>\n",
       "      <th>official</th>\n",
       "      <td>-0.827364</td>\n",
       "      <td>0.437200</td>\n",
       "    </tr>\n",
       "  </tbody>\n",
       "</table>\n",
       "</div>"
      ],
      "text/plain": [
       "              coef  exp_coef\n",
       "club     -1.152635  0.315804\n",
       "football -1.071958  0.342337\n",
       "sign     -1.066916  0.344068\n",
       "penalty  -1.021343  0.360111\n",
       "match    -1.019929  0.360620\n",
       "goal     -1.008941  0.364605\n",
       "bayern   -0.992634  0.370599\n",
       "chelsea  -0.980248  0.375218\n",
       "will     -0.920893  0.398163\n",
       "official -0.827364  0.437200"
      ]
     },
     "execution_count": 75,
     "metadata": {},
     "output_type": "execute_result"
    }
   ],
   "source": [
    "lr_coef_value.sort_values(by='exp_coef').head(10)"
   ]
  },
  {
   "cell_type": "markdown",
   "metadata": {},
   "source": [
    "### Comment\n",
    "\n",
    "- The model has a high mean accuracy score (0.9878048780487805 for training data) and (0.9477351916376306 for validation data)\n",
    "- There seems to be overfitting as as the mean accuracy score for training is higher than mean accuracy for validation data\n",
    "- The model also has a high recall (i.e the percent of positive cases I catch) of 0.92 for basketball.\n",
    "- It also has a high precision (i.e the percent of my predictions were correct) score of 0.98 for basketball. \n",
    "- The presence of the word \"nba\" increases by 1, the post is about 7.12 times as likely to be a basketball post.\n",
    "- On the other hand, the presence of words such as \"club\", \"football\", \"penalty\", \"goal\" indicates that the post is most likely be a soccer post instead of basketball post. "
   ]
  },
  {
   "cell_type": "markdown",
   "metadata": {},
   "source": [
    "### KNN (Baseline Model, I will compare all models against this model)"
   ]
  },
  {
   "cell_type": "code",
   "execution_count": 76,
   "metadata": {},
   "outputs": [
    {
     "name": "stdout",
     "output_type": "stream",
     "text": [
      "238.24736785888672\n"
     ]
    }
   ],
   "source": [
    "# Start our timer.\n",
    "t0 = time.time()\n",
    "\n",
    "pipe = Pipeline([\n",
    "    ('cv', CountVectorizer()),\n",
    "    ('knn', KNeighborsClassifier())\n",
    "])\n",
    "params = {\n",
    "    'cv__stop_words': [None, 'english'],\n",
    "    'cv__ngram_range': [(1, 1), (1, 2)],\n",
    "    'cv__max_df': [.5, .6, .7, .8],\n",
    "    'cv__min_df': [2, 4, 6],\n",
    "    'cv__max_features': [1000, 2000, 3000, 4000, 5000],\n",
    "    'knn__n_neighbors': [10, 25],\n",
    "    'knn__weights':['uniform','distance']\n",
    "    \n",
    "}\n",
    "gs = GridSearchCV(pipe, param_grid=params, cv=5, n_jobs=-1)\n",
    "gs.fit(X_train_2, y_train_2)\n",
    "\n",
    "# Stop our timer and print the result.\n",
    "print(time.time()-t0)"
   ]
  },
  {
   "cell_type": "code",
   "execution_count": 77,
   "metadata": {},
   "outputs": [
    {
     "name": "stdout",
     "output_type": "stream",
     "text": [
      "best score: 0.8083576988798177\n"
     ]
    }
   ],
   "source": [
    "print('best score:', gs.best_score_)"
   ]
  },
  {
   "cell_type": "code",
   "execution_count": 78,
   "metadata": {
    "scrolled": true
   },
   "outputs": [
    {
     "name": "stdout",
     "output_type": "stream",
     "text": [
      "best params: {'cv__max_df': 0.5, 'cv__max_features': 3000, 'cv__min_df': 2, 'cv__ngram_range': (1, 1), 'cv__stop_words': 'english', 'knn__n_neighbors': 25, 'knn__weights': 'distance'}\n"
     ]
    }
   ],
   "source": [
    "print('best params:', gs.best_params_)"
   ]
  },
  {
   "cell_type": "code",
   "execution_count": 79,
   "metadata": {},
   "outputs": [],
   "source": [
    "cv = CountVectorizer(analyzer = \"word\",\n",
    "                     stop_words= 'english',\n",
    "                     max_df=0.5,\n",
    "                     min_df=2,\n",
    "                     ngram_range=(1,1),\n",
    "                     max_features=3000)"
   ]
  },
  {
   "cell_type": "code",
   "execution_count": 80,
   "metadata": {},
   "outputs": [],
   "source": [
    "# Fit our CountVectorizer on the training data and transform training data.\n",
    "X_train_2_cv = pd.DataFrame(cv.fit_transform(X_train_2).todense(),\n",
    "                          columns = cv.get_feature_names())"
   ]
  },
  {
   "cell_type": "code",
   "execution_count": 81,
   "metadata": {},
   "outputs": [],
   "source": [
    "# Transform our testing data with the already-fit CountVectorizer.\n",
    "X_test_2_cv = pd.DataFrame(cv.transform(X_test_2).todense(),\n",
    "                         columns = cv.get_feature_names())"
   ]
  },
  {
   "cell_type": "code",
   "execution_count": 82,
   "metadata": {},
   "outputs": [],
   "source": [
    "knn = KNeighborsClassifier(n_neighbors=25, weights='distance')"
   ]
  },
  {
   "cell_type": "code",
   "execution_count": 83,
   "metadata": {},
   "outputs": [
    {
     "data": {
      "text/plain": [
       "KNeighborsClassifier(n_neighbors=25, weights='distance')"
      ]
     },
     "execution_count": 83,
     "metadata": {},
     "output_type": "execute_result"
    }
   ],
   "source": [
    "knn.fit(X_train_2_cv,y_train_2)"
   ]
  },
  {
   "cell_type": "code",
   "execution_count": 84,
   "metadata": {},
   "outputs": [],
   "source": [
    "y_pred = knn.predict(X_test_2_cv)"
   ]
  },
  {
   "cell_type": "code",
   "execution_count": 85,
   "metadata": {},
   "outputs": [
    {
     "data": {
      "text/plain": [
       "0.7883045376874881"
      ]
     },
     "execution_count": 85,
     "metadata": {},
     "output_type": "execute_result"
    }
   ],
   "source": [
    "cross_val_score(knn, X_train_2_cv, y_train_2, cv=5).mean()"
   ]
  },
  {
   "cell_type": "code",
   "execution_count": 86,
   "metadata": {},
   "outputs": [
    {
     "name": "stdout",
     "output_type": "stream",
     "text": [
      "model accuracy on itself: 0.9991289198606271\n",
      "model accuracy on test set: 0.8362369337979094\n"
     ]
    }
   ],
   "source": [
    "print('model accuracy on itself:', knn.score(X_train_2_cv, y_train_2))\n",
    "print('model accuracy on test set:', knn.score(X_test_2_cv, y_test_2))"
   ]
  },
  {
   "cell_type": "code",
   "execution_count": 87,
   "metadata": {},
   "outputs": [
    {
     "name": "stdout",
     "output_type": "stream",
     "text": [
      "[[ 97  32]\n",
      " [ 15 143]]\n",
      "\n",
      "\n",
      "              precision    recall  f1-score   support\n",
      "\n",
      "           0       0.87      0.75      0.80       129\n",
      "           1       0.82      0.91      0.86       158\n",
      "\n",
      "    accuracy                           0.84       287\n",
      "   macro avg       0.84      0.83      0.83       287\n",
      "weighted avg       0.84      0.84      0.83       287\n",
      "\n"
     ]
    }
   ],
   "source": [
    "print(confusion_matrix(y_test_2, y_pred))\n",
    "print('\\n')\n",
    "print(classification_report(y_test_2, y_pred))"
   ]
  },
  {
   "cell_type": "markdown",
   "metadata": {},
   "source": [
    "### Comment\n",
    "\n",
    "- The model has a high mean accuracy score (0.9991289198606271 for training data) and (0.8362369337979094 for validation data)\n",
    "- This is a case of severe overfitting as as the mean accuracy score for training is way higher than mean accuracy for validation data. \n",
    "- The model has recall (i.e the percent of positive cases I catch) of 0.91 for basketball.   \n",
    "- It has a precision (i.e the percent of my predictions were correct) score of 0.82 for basketball, lower than other models. "
   ]
  },
  {
   "cell_type": "markdown",
   "metadata": {},
   "source": [
    "###  Term Frequency-Inverse Document Frequency (TF-IDF)"
   ]
  },
  {
   "cell_type": "markdown",
   "metadata": {},
   "source": [
    "### Naive Bayes"
   ]
  },
  {
   "cell_type": "code",
   "execution_count": 88,
   "metadata": {},
   "outputs": [
    {
     "name": "stdout",
     "output_type": "stream",
     "text": [
      "60.75440692901611\n"
     ]
    }
   ],
   "source": [
    "# Start our timer.\n",
    "t0 = time.time()\n",
    "\n",
    "pipe = Pipeline([\n",
    "    ('tfidf', TfidfVectorizer()),\n",
    "    ('nb', MultinomialNB())\n",
    "])\n",
    "params = {\n",
    "    'tfidf__stop_words': [None, 'english'],\n",
    "    'tfidf__ngram_range': [(1, 1), (1, 2)],\n",
    "    'tfidf__max_df': [.03, .05, .1, .2],\n",
    "    'tfidf__min_df': [2, 4, 6],\n",
    "    'tfidf__max_features': [1000, 2000, 3000, 4000, 5000],\n",
    "}\n",
    "gs = GridSearchCV(pipe, param_grid=params, cv=5, n_jobs=-1)\n",
    "gs.fit(X_train_2, y_train_2)\n",
    "\n",
    "# Stop our timer and print the result.\n",
    "print(time.time()-t0)"
   ]
  },
  {
   "cell_type": "code",
   "execution_count": 89,
   "metadata": {},
   "outputs": [
    {
     "name": "stdout",
     "output_type": "stream",
     "text": [
      "best score: 0.9459654452249857\n"
     ]
    }
   ],
   "source": [
    "print('best score:', gs.best_score_)"
   ]
  },
  {
   "cell_type": "code",
   "execution_count": 90,
   "metadata": {},
   "outputs": [
    {
     "name": "stdout",
     "output_type": "stream",
     "text": [
      "best params: {'tfidf__max_df': 0.1, 'tfidf__max_features': 5000, 'tfidf__min_df': 2, 'tfidf__ngram_range': (1, 2), 'tfidf__stop_words': 'english'}\n"
     ]
    }
   ],
   "source": [
    "print('best params:', gs.best_params_)"
   ]
  },
  {
   "cell_type": "code",
   "execution_count": 91,
   "metadata": {},
   "outputs": [],
   "source": [
    "tfidf = TfidfVectorizer(analyzer = \"word\",\n",
    "                     stop_words='english',\n",
    "                     max_df=0.1,\n",
    "                     min_df=2,\n",
    "                     ngram_range=(1,2),\n",
    "                     max_features=5000)"
   ]
  },
  {
   "cell_type": "code",
   "execution_count": 92,
   "metadata": {},
   "outputs": [],
   "source": [
    "# Fit our CountVectorizer on the training data and transform training data.\n",
    "X_train_2_tfidf = pd.DataFrame(tfidf.fit_transform(X_train_2).todense(),\n",
    "                          columns = tfidf.get_feature_names())"
   ]
  },
  {
   "cell_type": "code",
   "execution_count": 93,
   "metadata": {},
   "outputs": [],
   "source": [
    "# Transform our testing data with the already-fit CountVectorizer.\n",
    "X_test_2_tfidf = pd.DataFrame(tfidf.transform(X_test_2).todense(),\n",
    "                         columns = tfidf.get_feature_names())"
   ]
  },
  {
   "cell_type": "code",
   "execution_count": 94,
   "metadata": {},
   "outputs": [],
   "source": [
    "nb = MultinomialNB()"
   ]
  },
  {
   "cell_type": "code",
   "execution_count": 95,
   "metadata": {},
   "outputs": [
    {
     "data": {
      "text/plain": [
       "MultinomialNB()"
      ]
     },
     "execution_count": 95,
     "metadata": {},
     "output_type": "execute_result"
    }
   ],
   "source": [
    "nb.fit(X_train_2_tfidf,y_train_2)"
   ]
  },
  {
   "cell_type": "code",
   "execution_count": 96,
   "metadata": {},
   "outputs": [],
   "source": [
    "y_pred = nb.predict(X_test_2_tfidf)"
   ]
  },
  {
   "cell_type": "code",
   "execution_count": 97,
   "metadata": {},
   "outputs": [
    {
     "data": {
      "text/plain": [
       "0.947708372887792"
      ]
     },
     "execution_count": 97,
     "metadata": {},
     "output_type": "execute_result"
    }
   ],
   "source": [
    "cross_val_score(nb, X_train_2_tfidf, y_train_2, cv=5).mean()"
   ]
  },
  {
   "cell_type": "code",
   "execution_count": 98,
   "metadata": {},
   "outputs": [
    {
     "name": "stdout",
     "output_type": "stream",
     "text": [
      "model accuracy on itself: 0.9782229965156795\n",
      "model accuracy on test set: 0.9651567944250871\n"
     ]
    }
   ],
   "source": [
    "print('model accuracy on itself:', nb.score(X_train_2_tfidf, y_train_2))\n",
    "print('model accuracy on test set:', nb.score(X_test_2_tfidf, y_test_2))"
   ]
  },
  {
   "cell_type": "code",
   "execution_count": 99,
   "metadata": {},
   "outputs": [
    {
     "name": "stdout",
     "output_type": "stream",
     "text": [
      "[[120   9]\n",
      " [  1 157]]\n"
     ]
    }
   ],
   "source": [
    "print(confusion_matrix(y_test_2, y_pred))"
   ]
  },
  {
   "cell_type": "code",
   "execution_count": 100,
   "metadata": {
    "scrolled": true
   },
   "outputs": [
    {
     "name": "stdout",
     "output_type": "stream",
     "text": [
      "              precision    recall  f1-score   support\n",
      "\n",
      "           0       0.99      0.93      0.96       129\n",
      "           1       0.95      0.99      0.97       158\n",
      "\n",
      "    accuracy                           0.97       287\n",
      "   macro avg       0.97      0.96      0.96       287\n",
      "weighted avg       0.97      0.97      0.97       287\n",
      "\n"
     ]
    }
   ],
   "source": [
    "print(classification_report(y_test_2, y_pred))"
   ]
  },
  {
   "cell_type": "markdown",
   "metadata": {},
   "source": [
    "### Comment\n",
    "\n",
    "- The model has a high mean accuracy score (0.9782229965156795 for training data) and (0.9651567944250871 for validation data)\n",
    "- There seems to be overfitting as as the mean accuracy score for training is higher than mean accuracy for validation data\n",
    "- The model also has a high recall (i.e the percent of positive cases I catch) of 0.99 for basketball. \n",
    "- It also has a high precision (i.e the percent of my predictions were correct) score of 0.95 for basketball.  "
   ]
  },
  {
   "cell_type": "markdown",
   "metadata": {},
   "source": [
    "### Logistic Regression"
   ]
  },
  {
   "cell_type": "code",
   "execution_count": 101,
   "metadata": {},
   "outputs": [
    {
     "name": "stdout",
     "output_type": "stream",
     "text": [
      "285.4238169193268\n"
     ]
    }
   ],
   "source": [
    "# Start our timer.\n",
    "t0 = time.time()\n",
    "\n",
    "pipe = Pipeline([\n",
    "    ('tfidf', TfidfVectorizer()),\n",
    "    ('lr', LogisticRegression())\n",
    "])\n",
    "params = {\n",
    "    'tfidf__stop_words': [None, 'english'],\n",
    "    'tfidf__ngram_range': [(1, 1), (1, 2)],\n",
    "    'tfidf__max_df': [.07, .08, .85, .95, 1],\n",
    "    'tfidf__min_df': [2, 4, 6],\n",
    "    'tfidf__max_features': [1000, 2000, 3000, 4000, 5000],\n",
    "    'lr__C': [1, .05],\n",
    "    'lr__penalty':['l1','l2']\n",
    "}\n",
    "gs = GridSearchCV(pipe, param_grid=params, cv=5, n_jobs=-1)\n",
    "gs.fit(X_train_2, y_train_2)\n",
    "\n",
    "# Stop our timer and print the result.\n",
    "print(time.time()-t0)"
   ]
  },
  {
   "cell_type": "code",
   "execution_count": 102,
   "metadata": {},
   "outputs": [
    {
     "name": "stdout",
     "output_type": "stream",
     "text": [
      "best score: 0.9538408961458135\n"
     ]
    }
   ],
   "source": [
    "print('best score:', gs.best_score_)"
   ]
  },
  {
   "cell_type": "code",
   "execution_count": 103,
   "metadata": {},
   "outputs": [
    {
     "name": "stdout",
     "output_type": "stream",
     "text": [
      "best params: {'lr__C': 1, 'lr__penalty': 'l2', 'tfidf__max_df': 0.85, 'tfidf__max_features': 5000, 'tfidf__min_df': 2, 'tfidf__ngram_range': (1, 2), 'tfidf__stop_words': 'english'}\n"
     ]
    }
   ],
   "source": [
    "print('best params:', gs.best_params_)"
   ]
  },
  {
   "cell_type": "code",
   "execution_count": 104,
   "metadata": {},
   "outputs": [],
   "source": [
    "tfidf = TfidfVectorizer(analyzer = \"word\",\n",
    "                     stop_words='english',\n",
    "                     max_df=0.85,\n",
    "                     min_df=2,\n",
    "                     ngram_range=(1,2),\n",
    "                     max_features=5000)"
   ]
  },
  {
   "cell_type": "code",
   "execution_count": 105,
   "metadata": {},
   "outputs": [],
   "source": [
    "# Fit our CountVectorizer on the training data and transform training data.\n",
    "X_train_2_tfidf = pd.DataFrame(tfidf.fit_transform(X_train_2).todense(),\n",
    "                          columns = tfidf.get_feature_names())"
   ]
  },
  {
   "cell_type": "code",
   "execution_count": 106,
   "metadata": {},
   "outputs": [],
   "source": [
    "# Transform our testing data with the already-fit CountVectorizer.\n",
    "X_test_2_tfidf = pd.DataFrame(tfidf.transform(X_test_2).todense(),\n",
    "                         columns = tfidf.get_feature_names())"
   ]
  },
  {
   "cell_type": "code",
   "execution_count": 107,
   "metadata": {},
   "outputs": [],
   "source": [
    "lr = LogisticRegression(penalty='l2', C=1)"
   ]
  },
  {
   "cell_type": "code",
   "execution_count": 108,
   "metadata": {},
   "outputs": [
    {
     "data": {
      "text/plain": [
       "LogisticRegression(C=1)"
      ]
     },
     "execution_count": 108,
     "metadata": {},
     "output_type": "execute_result"
    }
   ],
   "source": [
    "lr.fit(X_train_2_tfidf,y_train_2)"
   ]
  },
  {
   "cell_type": "code",
   "execution_count": 109,
   "metadata": {},
   "outputs": [],
   "source": [
    "y_pred = lr.predict(X_test_2_tfidf)"
   ]
  },
  {
   "cell_type": "code",
   "execution_count": 110,
   "metadata": {},
   "outputs": [
    {
     "data": {
      "text/plain": [
       "0.9547028669071578"
      ]
     },
     "execution_count": 110,
     "metadata": {},
     "output_type": "execute_result"
    }
   ],
   "source": [
    "cross_val_score(lr, X_train_2_tfidf, y_train_2, cv=5).mean()"
   ]
  },
  {
   "cell_type": "code",
   "execution_count": 111,
   "metadata": {},
   "outputs": [
    {
     "name": "stdout",
     "output_type": "stream",
     "text": [
      "mean accuracy on itself: 0.9939024390243902\n",
      "mean accuracy on test set: 0.9616724738675958\n"
     ]
    }
   ],
   "source": [
    "print('mean accuracy on itself:', lr.score(X_train_2_tfidf, y_train_2))\n",
    "print('mean accuracy on test set:', lr.score(X_test_2_tfidf, y_test_2))"
   ]
  },
  {
   "cell_type": "code",
   "execution_count": 112,
   "metadata": {},
   "outputs": [
    {
     "name": "stdout",
     "output_type": "stream",
     "text": [
      "[[123   6]\n",
      " [  5 153]]\n",
      "\n",
      "\n",
      "              precision    recall  f1-score   support\n",
      "\n",
      "           0       0.96      0.95      0.96       129\n",
      "           1       0.96      0.97      0.97       158\n",
      "\n",
      "    accuracy                           0.96       287\n",
      "   macro avg       0.96      0.96      0.96       287\n",
      "weighted avg       0.96      0.96      0.96       287\n",
      "\n"
     ]
    }
   ],
   "source": [
    "print(confusion_matrix(y_test_2, y_pred))\n",
    "print('\\n')\n",
    "print(classification_report(y_test_2, y_pred))"
   ]
  },
  {
   "cell_type": "code",
   "execution_count": 113,
   "metadata": {
    "scrolled": true
   },
   "outputs": [
    {
     "data": {
      "text/html": [
       "<div>\n",
       "<style scoped>\n",
       "    .dataframe tbody tr th:only-of-type {\n",
       "        vertical-align: middle;\n",
       "    }\n",
       "\n",
       "    .dataframe tbody tr th {\n",
       "        vertical-align: top;\n",
       "    }\n",
       "\n",
       "    .dataframe thead th {\n",
       "        text-align: right;\n",
       "    }\n",
       "</style>\n",
       "<table border=\"1\" class=\"dataframe\">\n",
       "  <thead>\n",
       "    <tr style=\"text-align: right;\">\n",
       "      <th></th>\n",
       "      <th>coef</th>\n",
       "      <th>exp_coef</th>\n",
       "    </tr>\n",
       "  </thead>\n",
       "  <tbody>\n",
       "    <tr>\n",
       "      <th>basketball</th>\n",
       "      <td>3.434121</td>\n",
       "      <td>31.004145</td>\n",
       "    </tr>\n",
       "    <tr>\n",
       "      <th>nba</th>\n",
       "      <td>2.504287</td>\n",
       "      <td>12.234827</td>\n",
       "    </tr>\n",
       "    <tr>\n",
       "      <th>just</th>\n",
       "      <td>1.953341</td>\n",
       "      <td>7.052211</td>\n",
       "    </tr>\n",
       "    <tr>\n",
       "      <th>like</th>\n",
       "      <td>1.888300</td>\n",
       "      <td>6.608128</td>\n",
       "    </tr>\n",
       "    <tr>\n",
       "      <th>good</th>\n",
       "      <td>1.811921</td>\n",
       "      <td>6.122199</td>\n",
       "    </tr>\n",
       "    <tr>\n",
       "      <th>game</th>\n",
       "      <td>1.770369</td>\n",
       "      <td>5.873018</td>\n",
       "    </tr>\n",
       "    <tr>\n",
       "      <th>ball</th>\n",
       "      <td>1.634172</td>\n",
       "      <td>5.125214</td>\n",
       "    </tr>\n",
       "    <tr>\n",
       "      <th>know</th>\n",
       "      <td>1.582610</td>\n",
       "      <td>4.867646</td>\n",
       "    </tr>\n",
       "    <tr>\n",
       "      <th>doe</th>\n",
       "      <td>1.532010</td>\n",
       "      <td>4.627467</td>\n",
       "    </tr>\n",
       "    <tr>\n",
       "      <th>tip</th>\n",
       "      <td>1.488273</td>\n",
       "      <td>4.429437</td>\n",
       "    </tr>\n",
       "  </tbody>\n",
       "</table>\n",
       "</div>"
      ],
      "text/plain": [
       "                coef   exp_coef\n",
       "basketball  3.434121  31.004145\n",
       "nba         2.504287  12.234827\n",
       "just        1.953341   7.052211\n",
       "like        1.888300   6.608128\n",
       "good        1.811921   6.122199\n",
       "game        1.770369   5.873018\n",
       "ball        1.634172   5.125214\n",
       "know        1.582610   4.867646\n",
       "doe         1.532010   4.627467\n",
       "tip         1.488273   4.429437"
      ]
     },
     "execution_count": 113,
     "metadata": {},
     "output_type": "execute_result"
    }
   ],
   "source": [
    "lr_coef_value = pd.DataFrame(data=lr.coef_.T, index=tfidf.get_feature_names())\n",
    "lr_coef_value.columns = ['coef']\n",
    "lr_coef_value['exp_coef'] = np.exp(lr_coef_value['coef'])\n",
    "lr_coef_value.sort_values(by='exp_coef', ascending=False).head(10)"
   ]
  },
  {
   "cell_type": "code",
   "execution_count": 114,
   "metadata": {},
   "outputs": [
    {
     "data": {
      "text/html": [
       "<div>\n",
       "<style scoped>\n",
       "    .dataframe tbody tr th:only-of-type {\n",
       "        vertical-align: middle;\n",
       "    }\n",
       "\n",
       "    .dataframe tbody tr th {\n",
       "        vertical-align: top;\n",
       "    }\n",
       "\n",
       "    .dataframe thead th {\n",
       "        text-align: right;\n",
       "    }\n",
       "</style>\n",
       "<table border=\"1\" class=\"dataframe\">\n",
       "  <thead>\n",
       "    <tr style=\"text-align: right;\">\n",
       "      <th></th>\n",
       "      <th>coef</th>\n",
       "      <th>exp_coef</th>\n",
       "    </tr>\n",
       "  </thead>\n",
       "  <tbody>\n",
       "    <tr>\n",
       "      <th>icon</th>\n",
       "      <td>-2.206740</td>\n",
       "      <td>0.110059</td>\n",
       "    </tr>\n",
       "    <tr>\n",
       "      <th>club</th>\n",
       "      <td>-1.579625</td>\n",
       "      <td>0.206052</td>\n",
       "    </tr>\n",
       "    <tr>\n",
       "      <th>chelsea</th>\n",
       "      <td>-1.467269</td>\n",
       "      <td>0.230554</td>\n",
       "    </tr>\n",
       "    <tr>\n",
       "      <th>sign</th>\n",
       "      <td>-1.457745</td>\n",
       "      <td>0.232761</td>\n",
       "    </tr>\n",
       "    <tr>\n",
       "      <th>goal</th>\n",
       "      <td>-1.447352</td>\n",
       "      <td>0.235192</td>\n",
       "    </tr>\n",
       "    <tr>\n",
       "      <th>penalty</th>\n",
       "      <td>-1.379323</td>\n",
       "      <td>0.251749</td>\n",
       "    </tr>\n",
       "    <tr>\n",
       "      <th>official</th>\n",
       "      <td>-1.357895</td>\n",
       "      <td>0.257202</td>\n",
       "    </tr>\n",
       "    <tr>\n",
       "      <th>loan</th>\n",
       "      <td>-1.329355</td>\n",
       "      <td>0.264648</td>\n",
       "    </tr>\n",
       "    <tr>\n",
       "      <th>match</th>\n",
       "      <td>-1.182461</td>\n",
       "      <td>0.306523</td>\n",
       "    </tr>\n",
       "    <tr>\n",
       "      <th>bayern</th>\n",
       "      <td>-1.130146</td>\n",
       "      <td>0.322986</td>\n",
       "    </tr>\n",
       "  </tbody>\n",
       "</table>\n",
       "</div>"
      ],
      "text/plain": [
       "              coef  exp_coef\n",
       "icon     -2.206740  0.110059\n",
       "club     -1.579625  0.206052\n",
       "chelsea  -1.467269  0.230554\n",
       "sign     -1.457745  0.232761\n",
       "goal     -1.447352  0.235192\n",
       "penalty  -1.379323  0.251749\n",
       "official -1.357895  0.257202\n",
       "loan     -1.329355  0.264648\n",
       "match    -1.182461  0.306523\n",
       "bayern   -1.130146  0.322986"
      ]
     },
     "execution_count": 114,
     "metadata": {},
     "output_type": "execute_result"
    }
   ],
   "source": [
    "lr_coef_value.sort_values(by='exp_coef').head(10)"
   ]
  },
  {
   "cell_type": "markdown",
   "metadata": {},
   "source": [
    "### Comment\n",
    "\n",
    "- The model has a high mean accuracy score (0.9939024390243902 for training data) and (0.9616724738675958 for validation data)\n",
    "- There seems to be overfitting as as the mean accuracy score for training is higher than mean accuracy for validation data\n",
    "- The model also has a high recall (i.e the percent of positive cases I catch) of 0.97 for basketball.\n",
    "- It also has a high precision (i.e the percent of my predictions were correct) score of 0.96 for basketball. \n",
    "- The presence of the word \"basketball\" increases by 1, the post is about 31 times as likely to be a basketball post.\n",
    "- On the other hand, the presence of words such as \"club\", \"chelsea\", \"penalty\", \"goal\", 'bayern\" indicates that the post is most likely be a soccer post instead of basketball post. "
   ]
  },
  {
   "cell_type": "markdown",
   "metadata": {},
   "source": [
    "### KNN"
   ]
  },
  {
   "cell_type": "code",
   "execution_count": 115,
   "metadata": {},
   "outputs": [
    {
     "name": "stdout",
     "output_type": "stream",
     "text": [
      "412.49567890167236\n"
     ]
    }
   ],
   "source": [
    "# Start our timer.\n",
    "t0 = time.time()\n",
    "\n",
    "pipe = Pipeline([\n",
    "    ('tfidf', TfidfVectorizer()),\n",
    "    ('knn', KNeighborsClassifier())\n",
    "])\n",
    "params = {\n",
    "    'tfidf__stop_words': [None, 'english'],\n",
    "    'tfidf__ngram_range': [(1, 1), (1, 2)],\n",
    "    'tfidf__max_df': [.85, .9, .95],\n",
    "    'tfidf__min_df': [2, 4, 6],\n",
    "    'tfidf__max_features': [1000, 2000, 3000, 4000, 5000],\n",
    "    'knn__n_neighbors': [2, 5, 10, 25],\n",
    "    'knn__weights':['uniform','distance']\n",
    "    \n",
    "}\n",
    "gs = GridSearchCV(pipe, param_grid=params, cv=5, n_jobs=-1)\n",
    "gs.fit(X_train_2, y_train_2)\n",
    "\n",
    "# Stop our timer and print the result.\n",
    "print(time.time()-t0)"
   ]
  },
  {
   "cell_type": "code",
   "execution_count": 116,
   "metadata": {},
   "outputs": [
    {
     "name": "stdout",
     "output_type": "stream",
     "text": [
      "best score: 0.9433871273970003\n"
     ]
    }
   ],
   "source": [
    "print('best score:', gs.best_score_)"
   ]
  },
  {
   "cell_type": "code",
   "execution_count": 117,
   "metadata": {},
   "outputs": [
    {
     "name": "stdout",
     "output_type": "stream",
     "text": [
      "best params: {'knn__n_neighbors': 10, 'knn__weights': 'distance', 'tfidf__max_df': 0.85, 'tfidf__max_features': 5000, 'tfidf__min_df': 2, 'tfidf__ngram_range': (1, 2), 'tfidf__stop_words': None}\n"
     ]
    }
   ],
   "source": [
    "print('best params:', gs.best_params_)"
   ]
  },
  {
   "cell_type": "code",
   "execution_count": 118,
   "metadata": {},
   "outputs": [],
   "source": [
    "tfidf = TfidfVectorizer(analyzer = \"word\",\n",
    "                     stop_words=None,\n",
    "                     max_df=0.85,\n",
    "                     min_df=2,\n",
    "                     ngram_range=(1,2),\n",
    "                     max_features=5000)"
   ]
  },
  {
   "cell_type": "code",
   "execution_count": 119,
   "metadata": {},
   "outputs": [],
   "source": [
    "# Fit our CountVectorizer on the training data and transform training data.\n",
    "X_train_2_tfidf = pd.DataFrame(tfidf.fit_transform(X_train_2).todense(),\n",
    "                          columns = tfidf.get_feature_names())"
   ]
  },
  {
   "cell_type": "code",
   "execution_count": 120,
   "metadata": {},
   "outputs": [],
   "source": [
    "# Transform our testing data with the already-fit CountVectorizer.\n",
    "X_test_2_tfidf = pd.DataFrame(tfidf.transform(X_test_2).todense(),\n",
    "                         columns = tfidf.get_feature_names())"
   ]
  },
  {
   "cell_type": "code",
   "execution_count": 121,
   "metadata": {},
   "outputs": [],
   "source": [
    "knn = KNeighborsClassifier(n_neighbors=10, weights='distance')"
   ]
  },
  {
   "cell_type": "code",
   "execution_count": 122,
   "metadata": {},
   "outputs": [
    {
     "data": {
      "text/plain": [
       "KNeighborsClassifier(n_neighbors=10, weights='distance')"
      ]
     },
     "execution_count": 122,
     "metadata": {},
     "output_type": "execute_result"
    }
   ],
   "source": [
    "knn.fit(X_train_2_tfidf,y_train_2)"
   ]
  },
  {
   "cell_type": "code",
   "execution_count": 123,
   "metadata": {},
   "outputs": [],
   "source": [
    "y_pred = knn.predict(X_test_2_tfidf)"
   ]
  },
  {
   "cell_type": "code",
   "execution_count": 124,
   "metadata": {},
   "outputs": [
    {
     "data": {
      "text/plain": [
       "0.9459920258211506"
      ]
     },
     "execution_count": 124,
     "metadata": {},
     "output_type": "execute_result"
    }
   ],
   "source": [
    "cross_val_score(knn, X_train_2_tfidf, y_train_2, cv=5).mean()"
   ]
  },
  {
   "cell_type": "code",
   "execution_count": 125,
   "metadata": {},
   "outputs": [
    {
     "name": "stdout",
     "output_type": "stream",
     "text": [
      "model accuracy on itself: 0.9991289198606271\n",
      "model accuracy on test set: 0.9686411149825784\n"
     ]
    }
   ],
   "source": [
    "print('model accuracy on itself:', knn.score(X_train_2_tfidf, y_train_2))\n",
    "print('model accuracy on test set:', knn.score(X_test_2_tfidf, y_test_2))"
   ]
  },
  {
   "cell_type": "code",
   "execution_count": 126,
   "metadata": {},
   "outputs": [
    {
     "name": "stdout",
     "output_type": "stream",
     "text": [
      "[[125   4]\n",
      " [  5 153]]\n",
      "\n",
      "\n",
      "              precision    recall  f1-score   support\n",
      "\n",
      "           0       0.96      0.97      0.97       129\n",
      "           1       0.97      0.97      0.97       158\n",
      "\n",
      "    accuracy                           0.97       287\n",
      "   macro avg       0.97      0.97      0.97       287\n",
      "weighted avg       0.97      0.97      0.97       287\n",
      "\n"
     ]
    }
   ],
   "source": [
    "print(confusion_matrix(y_test_2, y_pred))\n",
    "print('\\n')\n",
    "print(classification_report(y_test_2, y_pred))"
   ]
  },
  {
   "cell_type": "markdown",
   "metadata": {},
   "source": [
    "### Comment\n",
    "\n",
    "- The model has a high mean accuracy score (0.9991289198606271 for training data) and (0.9686411149825784 for validation data)\n",
    "- There seems to be overfitting as as the mean accuracy score for training is higher (perfect) than mean accuracy for validation data. \n",
    "- The model has recall (i.e the percent of positive cases I catch) of 0.97 for basketball which is rather low compare to other models. \n",
    "- It has a high precision (i.e the percent of my predictions were correct) score of 0.97 for basketball. "
   ]
  },
  {
   "cell_type": "markdown",
   "metadata": {},
   "source": [
    "## 9. Selected Model and Business Recommendations"
   ]
  },
  {
   "cell_type": "markdown",
   "metadata": {},
   "source": [
    "### Selected Model =  Logistic Regression TF-IDF"
   ]
  },
  {
   "cell_type": "code",
   "execution_count": 127,
   "metadata": {},
   "outputs": [],
   "source": [
    "tfidf = TfidfVectorizer(analyzer = \"word\",\n",
    "                     stop_words='english',\n",
    "                     max_df=0.85,\n",
    "                     min_df=2,\n",
    "                     ngram_range=(1,2),\n",
    "                     max_features=5000)"
   ]
  },
  {
   "cell_type": "code",
   "execution_count": 128,
   "metadata": {},
   "outputs": [],
   "source": [
    "# Fit our CountVectorizer on the training data and transform training data.\n",
    "X_train_tfidf = pd.DataFrame(tfidf.fit_transform(X_train).todense(),\n",
    "                          columns = tfidf.get_feature_names())"
   ]
  },
  {
   "cell_type": "code",
   "execution_count": 129,
   "metadata": {},
   "outputs": [],
   "source": [
    "# Transform our testing data with the already-fit CountVectorizer.\n",
    "X_test_tfidf = pd.DataFrame(tfidf.transform(X_test).todense(),\n",
    "                         columns = tfidf.get_feature_names())"
   ]
  },
  {
   "cell_type": "code",
   "execution_count": 130,
   "metadata": {},
   "outputs": [],
   "source": [
    "lr = LogisticRegression(penalty='l2', C=1)"
   ]
  },
  {
   "cell_type": "code",
   "execution_count": 131,
   "metadata": {},
   "outputs": [
    {
     "data": {
      "text/plain": [
       "LogisticRegression(C=1)"
      ]
     },
     "execution_count": 131,
     "metadata": {},
     "output_type": "execute_result"
    }
   ],
   "source": [
    "lr.fit(X_train_tfidf,y_train)"
   ]
  },
  {
   "cell_type": "code",
   "execution_count": 132,
   "metadata": {},
   "outputs": [],
   "source": [
    "y_pred = lr.predict(X_test_tfidf)"
   ]
  },
  {
   "cell_type": "code",
   "execution_count": 133,
   "metadata": {},
   "outputs": [
    {
     "data": {
      "text/plain": [
       "0.9581881533101045"
      ]
     },
     "execution_count": 133,
     "metadata": {},
     "output_type": "execute_result"
    }
   ],
   "source": [
    "cross_val_score(lr, X_train_tfidf, y_train, cv=5).mean()"
   ]
  },
  {
   "cell_type": "code",
   "execution_count": 134,
   "metadata": {},
   "outputs": [
    {
     "name": "stdout",
     "output_type": "stream",
     "text": [
      "mean accuracy on itself: 0.9895470383275261\n",
      "mean accuracy on test set: 0.9498607242339833\n"
     ]
    }
   ],
   "source": [
    "print('mean accuracy on itself:', lr.score(X_train_tfidf, y_train))\n",
    "print('mean accuracy on test set:', lr.score(X_test_tfidf, y_test))"
   ]
  },
  {
   "cell_type": "code",
   "execution_count": 135,
   "metadata": {},
   "outputs": [
    {
     "name": "stdout",
     "output_type": "stream",
     "text": [
      "[[150  11]\n",
      " [  7 191]]\n",
      "\n",
      "\n",
      "              precision    recall  f1-score   support\n",
      "\n",
      "           0       0.96      0.93      0.94       161\n",
      "           1       0.95      0.96      0.96       198\n",
      "\n",
      "    accuracy                           0.95       359\n",
      "   macro avg       0.95      0.95      0.95       359\n",
      "weighted avg       0.95      0.95      0.95       359\n",
      "\n"
     ]
    }
   ],
   "source": [
    "print(confusion_matrix(y_test, y_pred))\n",
    "print('\\n')\n",
    "print(classification_report(y_test, y_pred))"
   ]
  },
  {
   "cell_type": "code",
   "execution_count": 136,
   "metadata": {},
   "outputs": [
    {
     "data": {
      "text/html": [
       "<div>\n",
       "<style scoped>\n",
       "    .dataframe tbody tr th:only-of-type {\n",
       "        vertical-align: middle;\n",
       "    }\n",
       "\n",
       "    .dataframe tbody tr th {\n",
       "        vertical-align: top;\n",
       "    }\n",
       "\n",
       "    .dataframe thead th {\n",
       "        text-align: right;\n",
       "    }\n",
       "</style>\n",
       "<table border=\"1\" class=\"dataframe\">\n",
       "  <thead>\n",
       "    <tr style=\"text-align: right;\">\n",
       "      <th></th>\n",
       "      <th>coef</th>\n",
       "      <th>exp_coef</th>\n",
       "    </tr>\n",
       "  </thead>\n",
       "  <tbody>\n",
       "    <tr>\n",
       "      <th>basketball</th>\n",
       "      <td>3.805025</td>\n",
       "      <td>44.926382</td>\n",
       "    </tr>\n",
       "    <tr>\n",
       "      <th>nba</th>\n",
       "      <td>2.842973</td>\n",
       "      <td>17.166732</td>\n",
       "    </tr>\n",
       "    <tr>\n",
       "      <th>game</th>\n",
       "      <td>2.042460</td>\n",
       "      <td>7.709549</td>\n",
       "    </tr>\n",
       "    <tr>\n",
       "      <th>just</th>\n",
       "      <td>1.999082</td>\n",
       "      <td>7.382278</td>\n",
       "    </tr>\n",
       "    <tr>\n",
       "      <th>good</th>\n",
       "      <td>1.931700</td>\n",
       "      <td>6.901233</td>\n",
       "    </tr>\n",
       "    <tr>\n",
       "      <th>like</th>\n",
       "      <td>1.864540</td>\n",
       "      <td>6.452969</td>\n",
       "    </tr>\n",
       "    <tr>\n",
       "      <th>know</th>\n",
       "      <td>1.842560</td>\n",
       "      <td>6.312680</td>\n",
       "    </tr>\n",
       "    <tr>\n",
       "      <th>ball</th>\n",
       "      <td>1.801133</td>\n",
       "      <td>6.056509</td>\n",
       "    </tr>\n",
       "    <tr>\n",
       "      <th>tip</th>\n",
       "      <td>1.727179</td>\n",
       "      <td>5.624764</td>\n",
       "    </tr>\n",
       "    <tr>\n",
       "      <th>shot</th>\n",
       "      <td>1.615363</td>\n",
       "      <td>5.029715</td>\n",
       "    </tr>\n",
       "  </tbody>\n",
       "</table>\n",
       "</div>"
      ],
      "text/plain": [
       "                coef   exp_coef\n",
       "basketball  3.805025  44.926382\n",
       "nba         2.842973  17.166732\n",
       "game        2.042460   7.709549\n",
       "just        1.999082   7.382278\n",
       "good        1.931700   6.901233\n",
       "like        1.864540   6.452969\n",
       "know        1.842560   6.312680\n",
       "ball        1.801133   6.056509\n",
       "tip         1.727179   5.624764\n",
       "shot        1.615363   5.029715"
      ]
     },
     "execution_count": 136,
     "metadata": {},
     "output_type": "execute_result"
    }
   ],
   "source": [
    "lr_coef_value = pd.DataFrame(data=lr.coef_.T, index=tfidf.get_feature_names())\n",
    "lr_coef_value.columns = ['coef']\n",
    "lr_coef_value['exp_coef'] = np.exp(lr_coef_value['coef'])\n",
    "lr_coef_value.sort_values(by='exp_coef', ascending=False).head(10)"
   ]
  },
  {
   "cell_type": "code",
   "execution_count": 137,
   "metadata": {},
   "outputs": [
    {
     "data": {
      "text/html": [
       "<div>\n",
       "<style scoped>\n",
       "    .dataframe tbody tr th:only-of-type {\n",
       "        vertical-align: middle;\n",
       "    }\n",
       "\n",
       "    .dataframe tbody tr th {\n",
       "        vertical-align: top;\n",
       "    }\n",
       "\n",
       "    .dataframe thead th {\n",
       "        text-align: right;\n",
       "    }\n",
       "</style>\n",
       "<table border=\"1\" class=\"dataframe\">\n",
       "  <thead>\n",
       "    <tr style=\"text-align: right;\">\n",
       "      <th></th>\n",
       "      <th>coef</th>\n",
       "      <th>exp_coef</th>\n",
       "    </tr>\n",
       "  </thead>\n",
       "  <tbody>\n",
       "    <tr>\n",
       "      <th>icon</th>\n",
       "      <td>-2.307410</td>\n",
       "      <td>0.099519</td>\n",
       "    </tr>\n",
       "    <tr>\n",
       "      <th>club</th>\n",
       "      <td>-1.738436</td>\n",
       "      <td>0.175795</td>\n",
       "    </tr>\n",
       "    <tr>\n",
       "      <th>goal</th>\n",
       "      <td>-1.587384</td>\n",
       "      <td>0.204460</td>\n",
       "    </tr>\n",
       "    <tr>\n",
       "      <th>sign</th>\n",
       "      <td>-1.485854</td>\n",
       "      <td>0.226309</td>\n",
       "    </tr>\n",
       "    <tr>\n",
       "      <th>official</th>\n",
       "      <td>-1.456467</td>\n",
       "      <td>0.233058</td>\n",
       "    </tr>\n",
       "    <tr>\n",
       "      <th>penalty</th>\n",
       "      <td>-1.455049</td>\n",
       "      <td>0.233389</td>\n",
       "    </tr>\n",
       "    <tr>\n",
       "      <th>chelsea</th>\n",
       "      <td>-1.447114</td>\n",
       "      <td>0.235248</td>\n",
       "    </tr>\n",
       "    <tr>\n",
       "      <th>loan</th>\n",
       "      <td>-1.370586</td>\n",
       "      <td>0.253958</td>\n",
       "    </tr>\n",
       "    <tr>\n",
       "      <th>football</th>\n",
       "      <td>-1.355838</td>\n",
       "      <td>0.257731</td>\n",
       "    </tr>\n",
       "    <tr>\n",
       "      <th>match</th>\n",
       "      <td>-1.319981</td>\n",
       "      <td>0.267140</td>\n",
       "    </tr>\n",
       "  </tbody>\n",
       "</table>\n",
       "</div>"
      ],
      "text/plain": [
       "              coef  exp_coef\n",
       "icon     -2.307410  0.099519\n",
       "club     -1.738436  0.175795\n",
       "goal     -1.587384  0.204460\n",
       "sign     -1.485854  0.226309\n",
       "official -1.456467  0.233058\n",
       "penalty  -1.455049  0.233389\n",
       "chelsea  -1.447114  0.235248\n",
       "loan     -1.370586  0.253958\n",
       "football -1.355838  0.257731\n",
       "match    -1.319981  0.267140"
      ]
     },
     "execution_count": 137,
     "metadata": {},
     "output_type": "execute_result"
    }
   ],
   "source": [
    "lr_coef_value.sort_values(by='exp_coef').head(10)"
   ]
  },
  {
   "cell_type": "markdown",
   "metadata": {},
   "source": [
    "### Justification for picking Logistic Regression TF-IDF & Interpretation of Model\n",
    "\n",
    "1. TF-IDF penalize common words and give rare words more influence. This is relevant to our problem statement, basketball posts and soccer posts tends to use different terms. For example, basketball post might commonly use the word \"NBA\" because that is the most popular basketball association. On the other hand, soccer post might commonly find the word \"EPL\" or \"Premier League\" because that is a popular football league. Therefore, penalize common words and giving more influence to rare words would help us in our classification problem. \n",
    "\n",
    "2. Comparing the model scores of CountVectorizer and TfidfVectorizer, in all instances models under TfidfVectorizer scores better. \n",
    "\n",
    "3. Why Logistic Regression? Logistic Regression gives a high mean accuracy score for both training data (0.9895470383275261) and test data (0.9498607242339833). This means that the model generalises well and scores well on unseen data. It returns one of the highest test score amongst all models. It also scores much better than the baseline score.  \n",
    "\n",
    "4. The model also has a high recall (i.e the percent of positive cases I catch) of 0.96 for basketball. It also has a high precision (i.e the percent of my predictions were correct) score of 0.95 for basketball. \n",
    " \n",
    "5. Logistic Regression allows me to interpret model coefficients as indicators of feature importance. \n",
    "    - For example, the presence of the word \"basketball\" increases by 1, the post is about 44 times as likely to be a basketball post. You might think that the presence of the word \"basketball\" in basketball post are very common. However, based on domin knowledge, it can also be interpreted as basketball fans likes to stay true to the game and not involve the sport in politics. For example, NBA icon Charles Barkley ones mentioned, fans dont like to see politics in the sport. (https://www.bet.com/news/sports/2020/07/14/charles-barkley-nba-social-justice.html)  \n",
    "    - Similarly, the presence of the word \"nba\" increases by 1, the post is about 17.2 times as likely to be a basketball post. Based on domin knowledge, NBA is the most popular basketball league in the world. It has many famous basketball icons such as Michael Jordan and Kobe Bryant who have huge fan base all over the world. It is therefore logical for the word 'nba' to be ranked as the top few most impactful words. \n",
    "    - Based on reading the posts in reddit, basketball fans are also very interested in finding out how to improve their basketball skills. For example, there were many post that ask for tips to improve jumping abiltiy, shooting accuracy and game tactics. It is therefore, logical for words such as 'game', 'good', 'know', 'tip' and 'shoot' to be among the significant words. \n",
    "    - On the other hand, the presence of words such as \"club\", \"goal\", \"penalty\", \"chelsea\", 'loan\" indicates that the post is most likely a soccer post instead of basketball post. \n",
    "    - The interpretation of coefficients allows us to make useful recommendations for our problem statement.  \n",
    "\n",
    "6. Logistic Regression also has some limiations, for instance it assumes independence of independent Variables and the independent variables X1, . . . , Xm are linearly related to the logit of the probability. These are assumations however it may not always be the case. Nonetheless, for our problem statement, logistic regression is an useful model. "
   ]
  },
  {
   "cell_type": "markdown",
   "metadata": {},
   "source": [
    "### Conclusion and Recommendations"
   ]
  },
  {
   "cell_type": "markdown",
   "metadata": {},
   "source": [
    "- Search Engine Optimisation (SEO)\n",
    "    - Based on our research through reddit post and our logistic model, keys words such as Basketball, NBA, Game, Good, Like, Know, Ball, Tip and Shoot are the words that best indicate a basketball post. This means that, basetball fans likes to use such words and would engage in discussions around such topics. Therefore, FIBA can include these words during their web improvement process to boost online presence. \n",
    "- Keep the Marketing Message Short and Sweet\n",
    "    - Based on our research, basketball posts are generally shorter than football posts. This means that, basketball fans prefer short and concise text. Research result also shows that shorter texts tends to get more up votes compared to longer post. Social media platforms would be a good channel for FIBA's markeing effort. For example Twitter. Twitter only allows 140 texts per post, therefore its message is short and concise. Basketball fans might like such style.\n",
    "- Marketing Message Needs to be Meaningful\n",
    "    - Research result shows that the number of comments has a moderate positive correlation with posts score and support votes(ups). This means that, basketball fans appreciates meaningful content and they are more willing to participate in discussions that interests them. Besides that, our result indicated that the number of comments in basketball posts are generally fewer than soccer posts. This means that the current basketball posts are not engaging and there are few fans participating in discussion. \n",
    "    - FIBA can use the key words identified in our model to create meaningful discussion topics. For example, a discussion on NBA players playing style. Besides that, research findings also indicate that basketball fans are also interested in improving their own game. From the word cloud and logistic model, words such as know, tip, help, better and shoot kept coming up. This means that, basketball fans are seeking information that can help them improve their game. Therefore, FIBA's marketing campaign can include educational aspect in it. The presence of relevant key words would attract the attention of basketball fans and therefore trigger active discussion.\n",
    "- Avoid Aggressive Marketing Campaign\n",
    "    - The strategy of aggressive marketing should be avoided. Aggressive marketing is kind of marketing campaign where one brand will expose the weakness of its rival brand. For example, Coca Cola attacking pepsi or Mercedes attacking BMW in their advertisement. FIBA's marketing campaign should only focus on Basketball and not involve other elements. Basketball fans likes to stay true to the game therefore the marketing campaign needs to be pure.   \n",
    "    \n",
    "Citations:\n",
    "1. https://esrc.ukri.org/research/impact-toolkit/social-media/twitter/what-is-twitter/#:~:text=Twitter%20allows%20you%20to%3A,other%20experts%20in%20your%20field"
   ]
  },
  {
   "cell_type": "markdown",
   "metadata": {},
   "source": [
    "- This project first started by scrapping unique posts from reddit, the data was inspected and cleaned for analysis. In exploratory data analysis (EDA), we compared the general behavioural and relationships (text length, votes, scores, ups) of basketball fans and soccer fans. We have also use word cloud to identify common words. Next, models were build to make predicitions on unseen data. Logistic regression was identified as the most appropriate model, its coefficients were interpreted (i.e. impact of key words interpreted). Meaningful recommendations were given based on EDA and model. Therefore, each individual step connects to the overall project.    \n",
    "- Our research had successfully answered the original problem statement, which is to discover the key words that best differentiate basketball fans from soccer fans in reddit posts. We have also use these key words to derive marketing strategies.  \n",
    "- FIBA can use the recommendations above to better engage with its fans so as to reduce customer(fans) churn and to win back former fans. Otherwise, basketball fans worldwide will continue to dwindle. With a large active fan base, FIBA can more easily secure funding and sponsorship. Secondary stakeholders such as major basketball associations for example NBA and the teams in it. They would benefit in terms of ticket sales, membership sign up, pay per view and merchandise sales."
   ]
  },
  {
   "cell_type": "markdown",
   "metadata": {},
   "source": [
    "## 10. Future Steps"
   ]
  },
  {
   "cell_type": "markdown",
   "metadata": {},
   "source": [
    "- In the future, a larger dataset could be gathered. Currently, only around 900 unique posts were gathered for basketball and 800 posts for soccer. A larger dataset would be better for us to make inference of the population. \n",
    "- More models could be applied, for example models such as random forest and artificial neural network could be explored in the future. These are advanced models which might provide better predicitions. \n",
    "- Future research can combine both qualitative and quantitative methods. We are basically studying human behavioural, our data science research can be supported by interviews or focus groups. This would allow us to discover more meaning behind our findings. For example, we can invite basketfall fans to discuss about the keys words identified in our model. This would help us derive meaning from the fans perspective. \n",
    "- Our model is limited to the corpus of texts obtained from scrapping soccer and basketball reddit APIs. It would be better if the model can learn on its own, constantly update new text. This would allow the model to stay relevant longer. \n",
    "- Currently, our model only analyse basketball and soccer texts. In the future, the model can be expanded to include more sports.  "
   ]
  },
  {
   "cell_type": "code",
   "execution_count": null,
   "metadata": {},
   "outputs": [],
   "source": []
  }
 ],
 "metadata": {
  "kernelspec": {
   "display_name": "Python 3",
   "language": "python",
   "name": "python3"
  },
  "language_info": {
   "codemirror_mode": {
    "name": "ipython",
    "version": 3
   },
   "file_extension": ".py",
   "mimetype": "text/x-python",
   "name": "python",
   "nbconvert_exporter": "python",
   "pygments_lexer": "ipython3",
   "version": "3.8.3"
  }
 },
 "nbformat": 4,
 "nbformat_minor": 4
}
